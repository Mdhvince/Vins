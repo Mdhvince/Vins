{
 "cells": [
  {
   "cell_type": "markdown",
   "metadata": {},
   "source": [
    "# The Colored Bottles of Lurano\n",
    "An old town in a far away island, <b>Lurano</b>, had some <b>artisans specialized in the making of fine glass bottles in different shapes and colors</b>. We want to <b>study the weight of those bottles and the features that influence their weight</b>. \n",
    "\n",
    "But... you have access to a somehow limited information about those bottles, gathered by those who went to the island. You have a <b>list of the properties of 10000 bottles, without their weight</b>. You also have a <b>list of the weight comparison for many pairs of those bottles</b>. \n",
    "\n",
    "This weight comparison was done in a very rudimentary way. It says only <b>if the first bottle of the pair is heavier or lighter than the second</b>. If their weights are close enough (less than 0.1 kg of difference) the comparison is \"<b>undefined</b>\". \n",
    "\n",
    "And you have a <b>small list of 20 bottles whose weight is known - these bottles are also present in the other files</b>.\n",
    "\n",
    "The known properties about those bottles are the <b>name of their producer, their color and shape, their width, their height and their age (in months)</b>. Every property may (or may not) influence the weight of the bottle - even the color of the glass!\n",
    "\n",
    "You are asked to do the following:\n",
    "\n",
    "* 1.Obtain a good estimation for the weight of all those bottles. \n",
    "* 2.Write a script in python that, when given a csv file like \"bottles.csv\", generate a csv file \"bottles_with_weight.csv\" that have a column with the weight estimation for each bottle based on their properties.\n"
   ]
  },
  {
   "cell_type": "markdown",
   "metadata": {},
   "source": [
    "#### Some import"
   ]
  },
  {
   "cell_type": "code",
   "execution_count": 174,
   "metadata": {},
   "outputs": [],
   "source": [
    "import pandas as pd\n",
    "import numpy as np\n",
    "import matplotlib.pyplot as plt\n",
    "import seaborn as sns\n",
    "\n",
    "%matplotlib inline\n",
    "sns.set(rc={'figure.figsize':(11.7,8.27)})"
   ]
  },
  {
   "cell_type": "markdown",
   "metadata": {},
   "source": [
    "#### Read data"
   ]
  },
  {
   "cell_type": "code",
   "execution_count": 175,
   "metadata": {},
   "outputs": [],
   "source": [
    "df_bottles = pd.read_csv('bottles.csv')\n",
    "df_comparison = pd.read_csv('comparisons.csv')\n",
    "df_bottles_weighted = pd.read_csv('bottles_with_weight_20.csv')"
   ]
  },
  {
   "cell_type": "code",
   "execution_count": 176,
   "metadata": {},
   "outputs": [],
   "source": [
    "#df_bottles.head(3)"
   ]
  },
  {
   "cell_type": "code",
   "execution_count": 177,
   "metadata": {},
   "outputs": [],
   "source": [
    "#df_bottles.shape"
   ]
  },
  {
   "cell_type": "code",
   "execution_count": 178,
   "metadata": {},
   "outputs": [],
   "source": [
    "#df_bottles.isnull().sum()"
   ]
  },
  {
   "cell_type": "code",
   "execution_count": 179,
   "metadata": {},
   "outputs": [],
   "source": [
    "#df_bottles_weighted.head(3)"
   ]
  },
  {
   "cell_type": "code",
   "execution_count": 180,
   "metadata": {},
   "outputs": [],
   "source": [
    "#df_bottles_weighted.shape"
   ]
  },
  {
   "cell_type": "code",
   "execution_count": 181,
   "metadata": {},
   "outputs": [],
   "source": [
    "#df_bottles_weighted.isnull().sum()"
   ]
  },
  {
   "cell_type": "markdown",
   "metadata": {},
   "source": [
    "#### Let's merge df_bottles & df_bottles_weighted"
   ]
  },
  {
   "cell_type": "code",
   "execution_count": 182,
   "metadata": {},
   "outputs": [],
   "source": [
    "df_bottles = pd.merge(df_bottles, df_bottles_weighted[['bottle', 'weight']], how ='outer', on ='bottle')"
   ]
  },
  {
   "cell_type": "code",
   "execution_count": 183,
   "metadata": {},
   "outputs": [],
   "source": [
    "#df_bottles.shape"
   ]
  },
  {
   "cell_type": "code",
   "execution_count": 184,
   "metadata": {},
   "outputs": [],
   "source": [
    "#check if I have 9980 bottles without weight\n",
    "#df_bottles.isnull().sum()"
   ]
  },
  {
   "cell_type": "code",
   "execution_count": 185,
   "metadata": {},
   "outputs": [],
   "source": [
    "#df_bottles.head()"
   ]
  },
  {
   "cell_type": "markdown",
   "metadata": {},
   "source": [
    "#### try filling some weight by checking comparison column"
   ]
  },
  {
   "cell_type": "code",
   "execution_count": 186,
   "metadata": {},
   "outputs": [],
   "source": [
    "#df_comparison.head()"
   ]
  },
  {
   "cell_type": "code",
   "execution_count": 187,
   "metadata": {},
   "outputs": [],
   "source": [
    "#Here, bottle_1 weight can be approximate by the bottle_2 weight if the bottle_2 has one, and vice-versa\n",
    "#Create a df with only bottles with approximate same weight\n",
    "\n",
    "df_comparison_undifined = df_comparison[df_comparison.comparison == 'undefined']"
   ]
  },
  {
   "cell_type": "code",
   "execution_count": 188,
   "metadata": {},
   "outputs": [],
   "source": [
    "#df_comparison_undifined.head()"
   ]
  },
  {
   "cell_type": "markdown",
   "metadata": {},
   "source": [
    "* Merge this df with the df_bottles_weighted on bottle_1\n",
    "* if bottle_1 weight is not null, I can say that bottle_2 weight can be filled by bottle_1 weight"
   ]
  },
  {
   "cell_type": "code",
   "execution_count": 189,
   "metadata": {},
   "outputs": [],
   "source": [
    "#just rename for merging\n",
    "df_bottles_weighted['bottle_1'] = df_bottles_weighted.bottle\n",
    "\n",
    "# Merge\n",
    "df_find_bottle_2_weight = pd.merge(df_comparison_undifined, df_bottles_weighted[['bottle_1', 'weight']], how ='outer', on ='bottle_1')\n",
    "\n",
    "# drop Nan Values\n",
    "df_find_bottle_2_weight.dropna(inplace=True)"
   ]
  },
  {
   "cell_type": "markdown",
   "metadata": {},
   "source": [
    "* I know that the weight of bottle_1 (known) is approximatively the weight of bottle_2\n",
    "* the weight of bottle_1 is already difined in my main dataset df_bottles\n",
    "* Some weight of bottles 2 are null in my main dataset\n",
    "* So let fill the weight of bootle_2 in my main dataset"
   ]
  },
  {
   "cell_type": "code",
   "execution_count": 190,
   "metadata": {},
   "outputs": [],
   "source": [
    "df_find_bottle_2_weight = df_find_bottle_2_weight[['bottle_2', 'weight']]"
   ]
  },
  {
   "cell_type": "code",
   "execution_count": 191,
   "metadata": {},
   "outputs": [
    {
     "data": {
      "text/plain": [
       "46"
      ]
     },
     "execution_count": 191,
     "metadata": {},
     "output_type": "execute_result"
    }
   ],
   "source": [
    "# I Have 46 new values to enter in my main dataset \n",
    "# If all my manipulation is good, I have to have 9934 (9980-46) null values for the weight\n",
    "\n",
    "df_find_bottle_2_weight.bottle_2.count()"
   ]
  },
  {
   "cell_type": "code",
   "execution_count": 192,
   "metadata": {},
   "outputs": [],
   "source": [
    "#prepare the dataset for a merge\n",
    "df_find_bottle_2_weight['weight_2'] = df_find_bottle_2_weight.weight\n",
    "df_find_bottle_2_weight.bottle_2 = df_find_bottle_2_weight.astype('int64')\n",
    "df_find_bottle_2_weight['bottle'] = df_find_bottle_2_weight.bottle_2\n",
    "\n",
    "df_find_bottle_2_weight = df_find_bottle_2_weight[['bottle', 'weight_2']]"
   ]
  },
  {
   "cell_type": "code",
   "execution_count": 193,
   "metadata": {},
   "outputs": [],
   "source": [
    "#df_find_bottle_2_weight.shape"
   ]
  },
  {
   "cell_type": "code",
   "execution_count": 194,
   "metadata": {},
   "outputs": [],
   "source": [
    "# Merge\n",
    "df_bottles = pd.merge(df_bottles, df_find_bottle_2_weight, how ='outer', on ='bottle')"
   ]
  },
  {
   "cell_type": "markdown",
   "metadata": {},
   "source": [
    "#### Next steps : \n",
    "* fill NaN with 0\n",
    "* create weight_3 column\n",
    "* drop weight_2\n",
    "* replace 0 by np.nan"
   ]
  },
  {
   "cell_type": "code",
   "execution_count": 195,
   "metadata": {},
   "outputs": [
    {
     "data": {
      "text/html": [
       "<div>\n",
       "<style scoped>\n",
       "    .dataframe tbody tr th:only-of-type {\n",
       "        vertical-align: middle;\n",
       "    }\n",
       "\n",
       "    .dataframe tbody tr th {\n",
       "        vertical-align: top;\n",
       "    }\n",
       "\n",
       "    .dataframe thead th {\n",
       "        text-align: right;\n",
       "    }\n",
       "</style>\n",
       "<table border=\"1\" class=\"dataframe\">\n",
       "  <thead>\n",
       "    <tr style=\"text-align: right;\">\n",
       "      <th></th>\n",
       "      <th>Unnamed: 0</th>\n",
       "      <th>bottle</th>\n",
       "      <th>producer</th>\n",
       "      <th>color</th>\n",
       "      <th>shape</th>\n",
       "      <th>width</th>\n",
       "      <th>height</th>\n",
       "      <th>age</th>\n",
       "      <th>weight</th>\n",
       "      <th>weight_2</th>\n",
       "    </tr>\n",
       "  </thead>\n",
       "  <tbody>\n",
       "  </tbody>\n",
       "</table>\n",
       "</div>"
      ],
      "text/plain": [
       "Empty DataFrame\n",
       "Columns: [Unnamed: 0, bottle, producer, color, shape, width, height, age, weight, weight_2]\n",
       "Index: []"
      ]
     },
     "execution_count": 195,
     "metadata": {},
     "output_type": "execute_result"
    }
   ],
   "source": [
    "# By taping this, I know that in the dataset I can have either the weight or the weight_2, \n",
    "# so I can add weight and weight_2 because one of these will be 0\n",
    "\n",
    "df_bottles[(df_bottles.weight_2.notnull()) & (df_bottles.weight.notnull())]"
   ]
  },
  {
   "cell_type": "code",
   "execution_count": 196,
   "metadata": {},
   "outputs": [],
   "source": [
    "df_bottles.fillna(0, inplace=True)\n",
    "df_bottles['weight_3'] = df_bottles.weight + df_bottles.weight_2\n",
    "df_bottles.drop(labels=['weight_2', 'weight'], axis=1, inplace=True)\n",
    "df_bottles.weight_3.replace(0, np.nan, inplace=True)\n",
    "\n",
    "#rename\n",
    "df_bottles['weight'] = df_bottles.weight_3\n",
    "df_bottles.drop(labels='weight_3', axis=1, inplace=True)"
   ]
  },
  {
   "cell_type": "code",
   "execution_count": 197,
   "metadata": {},
   "outputs": [
    {
     "data": {
      "text/plain": [
       "Unnamed: 0       0\n",
       "bottle           0\n",
       "producer         0\n",
       "color            0\n",
       "shape            0\n",
       "width            0\n",
       "height           0\n",
       "age              0\n",
       "weight        9934\n",
       "dtype: int64"
      ]
     },
     "execution_count": 197,
     "metadata": {},
     "output_type": "execute_result"
    }
   ],
   "source": [
    "# And As I said before, If all my manipulation is good, I have to have 9934 (9980-46) null values for the weight\n",
    "\n",
    "df_bottles.isnull().sum()"
   ]
  },
  {
   "cell_type": "code",
   "execution_count": 198,
   "metadata": {},
   "outputs": [],
   "source": [
    "#df_bottles.head(2)"
   ]
  },
  {
   "cell_type": "code",
   "execution_count": 199,
   "metadata": {},
   "outputs": [],
   "source": [
    "# can't compute the real suface because their a lot of shape in each category of shape\n",
    "# simple surface = width * height\n",
    "\n",
    "df_bottles['simple_surface'] = df_bottles.width * df_bottles.height"
   ]
  },
  {
   "cell_type": "code",
   "execution_count": 200,
   "metadata": {},
   "outputs": [],
   "source": [
    "df_bottles.drop(labels='Unnamed: 0', axis=1, inplace=True)\n",
    "#df_bottles.head(3)"
   ]
  },
  {
   "cell_type": "code",
   "execution_count": 201,
   "metadata": {},
   "outputs": [],
   "source": [
    "# The height and width can only give us information about how big the bottle is,\n",
    "# so influence on the weight --> We can just keep the simple_surface feature\n",
    "\n",
    "df_bottles = df_bottles[['bottle', 'producer', 'color', 'shape', 'age',\n",
    "       'weight', 'simple_surface']]"
   ]
  },
  {
   "cell_type": "code",
   "execution_count": 202,
   "metadata": {},
   "outputs": [
    {
     "data": {
      "text/plain": [
       "<matplotlib.axes._subplots.AxesSubplot at 0x113822550>"
      ]
     },
     "execution_count": 202,
     "metadata": {},
     "output_type": "execute_result"
    },
    {
     "data": {
      "image/png": "[encoded data removed]",
      "text/plain": [
       "<matplotlib.figure.Figure at 0x11394f208>"
      ]
     },
     "metadata": {},
     "output_type": "display_data"
    }
   ],
   "source": [
    "#See corralation between variables\n",
    "sns.heatmap(df_bottles[(df_bottles['shape'] == 'onion')].corr(), annot=True)"
   ]
  },
  {
   "cell_type": "markdown",
   "metadata": {},
   "source": [
    "* Surface & weight are highly corralated for onion shape for 7 observations\n",
    "* Surface & weight are highly corralated for artistic shape for 4 observations"
   ]
  },
  {
   "cell_type": "code",
   "execution_count": 203,
   "metadata": {},
   "outputs": [],
   "source": [
    "#df_bottles.head()"
   ]
  },
  {
   "cell_type": "code",
   "execution_count": 204,
   "metadata": {},
   "outputs": [
    {
     "name": "stdout",
     "output_type": "stream",
     "text": [
      "color\n",
      "blue      4.272500\n",
      "green     4.196471\n",
      "yellow    4.128571\n",
      "Name: weight, dtype: float64\n",
      "\n",
      "shape\n",
      "artistic    4.302500\n",
      "long        3.831163\n",
      "onion       5.431429\n",
      "premium     4.760833\n",
      "Name: weight, dtype: float64\n"
     ]
    }
   ],
   "source": [
    "print(df_bottles.groupby('color')['weight'].mean())\n",
    "print(\"\")\n",
    "print(df_bottles.groupby('shape')['weight'].mean())"
   ]
  },
  {
   "cell_type": "code",
   "execution_count": 205,
   "metadata": {},
   "outputs": [],
   "source": [
    "# Shape ans color can influence the weight"
   ]
  },
  {
   "cell_type": "code",
   "execution_count": null,
   "metadata": {},
   "outputs": [],
   "source": []
  },
  {
   "cell_type": "code",
   "execution_count": 206,
   "metadata": {},
   "outputs": [
    {
     "data": {
      "text/plain": [
       "color_shape\n",
       "blue_artistic           NaN\n",
       "blue_long          0.414307\n",
       "blue_onion         0.643467\n",
       "blue_premium            NaN\n",
       "green_artistic     0.956813\n",
       "green_long         0.572702\n",
       "green_onion        1.136231\n",
       "green_premium      0.620202\n",
       "yellow_artistic         NaN\n",
       "yellow_long        0.718554\n",
       "yellow_onion            NaN\n",
       "yellow_premium     0.120208\n",
       "Name: weight, dtype: float64"
      ]
     },
     "execution_count": 206,
     "metadata": {},
     "output_type": "execute_result"
    }
   ],
   "source": [
    "#Let's combine color and shape\n",
    "df_bottles['color_shape'] = df_bottles.color + '_' + df_bottles['shape']\n",
    "df_bottles.groupby('color_shape')['weight'].std()"
   ]
  },
  {
   "cell_type": "code",
   "execution_count": 207,
   "metadata": {},
   "outputs": [
    {
     "data": {
      "text/html": [
       "<div>\n",
       "<style scoped>\n",
       "    .dataframe tbody tr th:only-of-type {\n",
       "        vertical-align: middle;\n",
       "    }\n",
       "\n",
       "    .dataframe tbody tr th {\n",
       "        vertical-align: top;\n",
       "    }\n",
       "\n",
       "    .dataframe thead th {\n",
       "        text-align: right;\n",
       "    }\n",
       "</style>\n",
       "<table border=\"1\" class=\"dataframe\">\n",
       "  <thead>\n",
       "    <tr style=\"text-align: right;\">\n",
       "      <th></th>\n",
       "      <th>bottle</th>\n",
       "      <th>producer</th>\n",
       "      <th>color</th>\n",
       "      <th>shape</th>\n",
       "      <th>age</th>\n",
       "      <th>weight</th>\n",
       "      <th>simple_surface</th>\n",
       "      <th>color_shape</th>\n",
       "    </tr>\n",
       "  </thead>\n",
       "  <tbody>\n",
       "    <tr>\n",
       "      <th>0</th>\n",
       "      <td>0</td>\n",
       "      <td>Pietro</td>\n",
       "      <td>green</td>\n",
       "      <td>long</td>\n",
       "      <td>33</td>\n",
       "      <td>NaN</td>\n",
       "      <td>305.4592</td>\n",
       "      <td>green_long</td>\n",
       "    </tr>\n",
       "    <tr>\n",
       "      <th>1</th>\n",
       "      <td>1</td>\n",
       "      <td>Romeo</td>\n",
       "      <td>green</td>\n",
       "      <td>onion</td>\n",
       "      <td>22</td>\n",
       "      <td>NaN</td>\n",
       "      <td>343.2088</td>\n",
       "      <td>green_onion</td>\n",
       "    </tr>\n",
       "    <tr>\n",
       "      <th>2</th>\n",
       "      <td>2</td>\n",
       "      <td>Pietro</td>\n",
       "      <td>blue</td>\n",
       "      <td>long</td>\n",
       "      <td>33</td>\n",
       "      <td>NaN</td>\n",
       "      <td>360.7825</td>\n",
       "      <td>blue_long</td>\n",
       "    </tr>\n",
       "    <tr>\n",
       "      <th>3</th>\n",
       "      <td>3</td>\n",
       "      <td>Monica</td>\n",
       "      <td>green</td>\n",
       "      <td>onion</td>\n",
       "      <td>56</td>\n",
       "      <td>NaN</td>\n",
       "      <td>356.4872</td>\n",
       "      <td>green_onion</td>\n",
       "    </tr>\n",
       "    <tr>\n",
       "      <th>4</th>\n",
       "      <td>4</td>\n",
       "      <td>Pietro</td>\n",
       "      <td>green</td>\n",
       "      <td>long</td>\n",
       "      <td>36</td>\n",
       "      <td>NaN</td>\n",
       "      <td>302.2728</td>\n",
       "      <td>green_long</td>\n",
       "    </tr>\n",
       "  </tbody>\n",
       "</table>\n",
       "</div>"
      ],
      "text/plain": [
       "   bottle producer  color  shape  age  weight  simple_surface  color_shape\n",
       "0       0   Pietro  green   long   33     NaN        305.4592   green_long\n",
       "1       1    Romeo  green  onion   22     NaN        343.2088  green_onion\n",
       "2       2   Pietro   blue   long   33     NaN        360.7825    blue_long\n",
       "3       3   Monica  green  onion   56     NaN        356.4872  green_onion\n",
       "4       4   Pietro  green   long   36     NaN        302.2728   green_long"
      ]
     },
     "execution_count": 207,
     "metadata": {},
     "output_type": "execute_result"
    }
   ],
   "source": [
    "df_bottles.head()"
   ]
  },
  {
   "cell_type": "code",
   "execution_count": null,
   "metadata": {},
   "outputs": [],
   "source": []
  },
  {
   "cell_type": "markdown",
   "metadata": {},
   "source": [
    "### Let's try to fill more weight in the dataset"
   ]
  },
  {
   "cell_type": "code",
   "execution_count": 208,
   "metadata": {},
   "outputs": [],
   "source": [
    "df_bottlesBis = df_bottles.copy()\n",
    "\n",
    "# just rename for merging\n",
    "df_bottlesBis['bottle_2'] = df_bottlesBis['bottle']\n",
    "\n",
    "# Merge\n",
    "df_merged = pd.merge(df_comparison, df_bottlesBis, on='bottle_2')\n",
    "\n",
    "# Select features\n",
    "df_merged = df_merged[['bottle_1', 'bottle_2', 'weight', 'comparison']]\n",
    "\n",
    "# drop NaN values\n",
    "df_merged = df_merged.dropna()"
   ]
  },
  {
   "cell_type": "code",
   "execution_count": 209,
   "metadata": {},
   "outputs": [
    {
     "name": "stderr",
     "output_type": "stream",
     "text": [
      "/Users/medhyvinceslas/anaconda3/lib/python3.6/site-packages/ipykernel_launcher.py:4: SettingWithCopyWarning: \n",
      "A value is trying to be set on a copy of a slice from a DataFrame.\n",
      "Try using .loc[row_indexer,col_indexer] = value instead\n",
      "\n",
      "See the caveats in the documentation: http://pandas.pydata.org/pandas-docs/stable/indexing.html#indexing-view-versus-copy\n",
      "  after removing the cwd from sys.path.\n",
      "/Users/medhyvinceslas/anaconda3/lib/python3.6/site-packages/ipykernel_launcher.py:7: SettingWithCopyWarning: \n",
      "A value is trying to be set on a copy of a slice from a DataFrame.\n",
      "Try using .loc[row_indexer,col_indexer] = value instead\n",
      "\n",
      "See the caveats in the documentation: http://pandas.pydata.org/pandas-docs/stable/indexing.html#indexing-view-versus-copy\n",
      "  import sys\n"
     ]
    }
   ],
   "source": [
    "# Define the minimum and maximum weight that an bottle can have based on the comparison table\n",
    "\n",
    "df_lighter = df_merged[df_merged.comparison == 'lighter']\n",
    "df_lighter['max_weight_possible'] = df_lighter.weight - 0.2\n",
    "\n",
    "df_heavier = df_merged[df_merged.comparison == 'heavier']\n",
    "df_heavier['min_weight_possible'] = df_heavier.weight + 0.2"
   ]
  },
  {
   "cell_type": "markdown",
   "metadata": {},
   "source": [
    "#### Find the weight interval of bottle 1 - comparison"
   ]
  },
  {
   "cell_type": "code",
   "execution_count": 210,
   "metadata": {},
   "outputs": [],
   "source": [
    "df_merged = pd.merge(df_heavier, df_lighter, on='bottle_1')\n",
    "df_merged = df_merged[['bottle_1', 'min_weight_possible', 'max_weight_possible']]"
   ]
  },
  {
   "cell_type": "code",
   "execution_count": 211,
   "metadata": {},
   "outputs": [
    {
     "data": {
      "text/html": [
       "<div>\n",
       "<style scoped>\n",
       "    .dataframe tbody tr th:only-of-type {\n",
       "        vertical-align: middle;\n",
       "    }\n",
       "\n",
       "    .dataframe tbody tr th {\n",
       "        vertical-align: top;\n",
       "    }\n",
       "\n",
       "    .dataframe thead th {\n",
       "        text-align: right;\n",
       "    }\n",
       "</style>\n",
       "<table border=\"1\" class=\"dataframe\">\n",
       "  <thead>\n",
       "    <tr style=\"text-align: right;\">\n",
       "      <th></th>\n",
       "      <th>bottle_1</th>\n",
       "      <th>min_weight_possible</th>\n",
       "      <th>max_weight_possible</th>\n",
       "    </tr>\n",
       "  </thead>\n",
       "  <tbody>\n",
       "    <tr>\n",
       "      <th>0</th>\n",
       "      <td>1567</td>\n",
       "      <td>3.65</td>\n",
       "      <td>4.60</td>\n",
       "    </tr>\n",
       "    <tr>\n",
       "      <th>1</th>\n",
       "      <td>4742</td>\n",
       "      <td>3.45</td>\n",
       "      <td>5.01</td>\n",
       "    </tr>\n",
       "    <tr>\n",
       "      <th>2</th>\n",
       "      <td>7654</td>\n",
       "      <td>3.45</td>\n",
       "      <td>4.23</td>\n",
       "    </tr>\n",
       "    <tr>\n",
       "      <th>3</th>\n",
       "      <td>2939</td>\n",
       "      <td>3.73</td>\n",
       "      <td>4.92</td>\n",
       "    </tr>\n",
       "    <tr>\n",
       "      <th>4</th>\n",
       "      <td>5609</td>\n",
       "      <td>4.25</td>\n",
       "      <td>4.92</td>\n",
       "    </tr>\n",
       "  </tbody>\n",
       "</table>\n",
       "</div>"
      ],
      "text/plain": [
       "   bottle_1  min_weight_possible  max_weight_possible\n",
       "0      1567                 3.65                 4.60\n",
       "1      4742                 3.45                 5.01\n",
       "2      7654                 3.45                 4.23\n",
       "3      2939                 3.73                 4.92\n",
       "4      5609                 4.25                 4.92"
      ]
     },
     "execution_count": 211,
     "metadata": {},
     "output_type": "execute_result"
    }
   ],
   "source": [
    "df_merged.head()"
   ]
  },
  {
   "cell_type": "code",
   "execution_count": 212,
   "metadata": {},
   "outputs": [],
   "source": [
    "# Choose a value between the confidence interval, I choose the mean\n",
    "df_merged['possible_weight_high_confidence'] = (df_merged.min_weight_possible + df_merged.max_weight_possible)/2\n",
    "\n",
    "# Prepare for merging\n",
    "df_merged['bottle'] = df_merged['bottle_1']\n",
    "df_merged.drop(labels='bottle_1', axis=1, inplace=True)\n",
    "\n",
    "# Select features\n",
    "df_merged = df_merged[['bottle', 'possible_weight_high_confidence']]\n",
    "\n",
    "# Merge\n",
    "df_bottles = pd.merge(df_bottles, df_merged, how='outer', on='bottle')"
   ]
  },
  {
   "cell_type": "code",
   "execution_count": 213,
   "metadata": {},
   "outputs": [],
   "source": [
    "#df_bottles.shape"
   ]
  },
  {
   "cell_type": "code",
   "execution_count": 214,
   "metadata": {},
   "outputs": [
    {
     "data": {
      "text/html": [
       "<div>\n",
       "<style scoped>\n",
       "    .dataframe tbody tr th:only-of-type {\n",
       "        vertical-align: middle;\n",
       "    }\n",
       "\n",
       "    .dataframe tbody tr th {\n",
       "        vertical-align: top;\n",
       "    }\n",
       "\n",
       "    .dataframe thead th {\n",
       "        text-align: right;\n",
       "    }\n",
       "</style>\n",
       "<table border=\"1\" class=\"dataframe\">\n",
       "  <thead>\n",
       "    <tr style=\"text-align: right;\">\n",
       "      <th></th>\n",
       "      <th>bottle</th>\n",
       "      <th>producer</th>\n",
       "      <th>color</th>\n",
       "      <th>shape</th>\n",
       "      <th>age</th>\n",
       "      <th>weight</th>\n",
       "      <th>simple_surface</th>\n",
       "      <th>color_shape</th>\n",
       "      <th>possible_weight_high_confidence</th>\n",
       "    </tr>\n",
       "  </thead>\n",
       "  <tbody>\n",
       "  </tbody>\n",
       "</table>\n",
       "</div>"
      ],
      "text/plain": [
       "Empty DataFrame\n",
       "Columns: [bottle, producer, color, shape, age, weight, simple_surface, color_shape, possible_weight_high_confidence]\n",
       "Index: []"
      ]
     },
     "execution_count": 214,
     "metadata": {},
     "output_type": "execute_result"
    }
   ],
   "source": [
    "df_bottles[(df_bottles.weight.notnull()) & (df_bottles.possible_weight_high_confidence.notnull())]\n",
    "# Ok now I can fill Nan with 0 and add weight with possible weight"
   ]
  },
  {
   "cell_type": "code",
   "execution_count": 215,
   "metadata": {},
   "outputs": [],
   "source": [
    "# 1- Replace NaN by 0\n",
    "# 2- Add possible weight & weight\n",
    "# 3- replace 0 by NaN\n",
    "\n",
    "df_bottles.weight.fillna(0, inplace=True)\n",
    "df_bottles.possible_weight_high_confidence.fillna(0, inplace=True)\n",
    "\n",
    "df_bottles.weight = df_bottles.weight + df_bottles.possible_weight_high_confidence\n",
    "df_bottles.weight.replace(0, np.nan, inplace=True)\n",
    "df_bottles.drop(labels='possible_weight_high_confidence', axis=1, inplace=True)"
   ]
  },
  {
   "cell_type": "markdown",
   "metadata": {},
   "source": [
    "#### Find the weight interval of bottle 2 - comparison"
   ]
  },
  {
   "cell_type": "code",
   "execution_count": 216,
   "metadata": {},
   "outputs": [],
   "source": [
    "# SAME AS ABOVE\n",
    "\n",
    "df_bottlesBis = df_bottles.copy()\n",
    "df_bottlesBis['bottle_1'] = df_bottlesBis['bottle']\n",
    "\n",
    "df_merged = pd.merge(df_comparison, df_bottlesBis, on='bottle_1')\n",
    "\n",
    "df_merged = df_merged[['bottle_1', 'bottle_2', 'weight', 'comparison']]\n",
    "df_merged = df_merged.dropna()"
   ]
  },
  {
   "cell_type": "code",
   "execution_count": 217,
   "metadata": {},
   "outputs": [
    {
     "data": {
      "text/html": [
       "<div>\n",
       "<style scoped>\n",
       "    .dataframe tbody tr th:only-of-type {\n",
       "        vertical-align: middle;\n",
       "    }\n",
       "\n",
       "    .dataframe tbody tr th {\n",
       "        vertical-align: top;\n",
       "    }\n",
       "\n",
       "    .dataframe thead th {\n",
       "        text-align: right;\n",
       "    }\n",
       "</style>\n",
       "<table border=\"1\" class=\"dataframe\">\n",
       "  <thead>\n",
       "    <tr style=\"text-align: right;\">\n",
       "      <th></th>\n",
       "      <th>bottle_1</th>\n",
       "      <th>bottle_2</th>\n",
       "      <th>weight</th>\n",
       "      <th>comparison</th>\n",
       "    </tr>\n",
       "  </thead>\n",
       "  <tbody>\n",
       "    <tr>\n",
       "      <th>403</th>\n",
       "      <td>10</td>\n",
       "      <td>57</td>\n",
       "      <td>5.55</td>\n",
       "      <td>heavier</td>\n",
       "    </tr>\n",
       "    <tr>\n",
       "      <th>404</th>\n",
       "      <td>10</td>\n",
       "      <td>412</td>\n",
       "      <td>5.55</td>\n",
       "      <td>heavier</td>\n",
       "    </tr>\n",
       "    <tr>\n",
       "      <th>405</th>\n",
       "      <td>10</td>\n",
       "      <td>865</td>\n",
       "      <td>5.55</td>\n",
       "      <td>heavier</td>\n",
       "    </tr>\n",
       "    <tr>\n",
       "      <th>406</th>\n",
       "      <td>10</td>\n",
       "      <td>993</td>\n",
       "      <td>5.55</td>\n",
       "      <td>heavier</td>\n",
       "    </tr>\n",
       "    <tr>\n",
       "      <th>407</th>\n",
       "      <td>10</td>\n",
       "      <td>1137</td>\n",
       "      <td>5.55</td>\n",
       "      <td>heavier</td>\n",
       "    </tr>\n",
       "  </tbody>\n",
       "</table>\n",
       "</div>"
      ],
      "text/plain": [
       "     bottle_1  bottle_2  weight comparison\n",
       "403        10        57    5.55    heavier\n",
       "404        10       412    5.55    heavier\n",
       "405        10       865    5.55    heavier\n",
       "406        10       993    5.55    heavier\n",
       "407        10      1137    5.55    heavier"
      ]
     },
     "execution_count": 217,
     "metadata": {},
     "output_type": "execute_result"
    }
   ],
   "source": [
    "#Here, I have the weight of bottle_1, \n",
    "df_merged.head()"
   ]
  },
  {
   "cell_type": "code",
   "execution_count": 218,
   "metadata": {},
   "outputs": [],
   "source": [
    "# We can read the dataset like this : bottle_1 weight 5.55 is heavier than bottle_2, so bottle_2 is < 5.55\n",
    "# To simplify, let's replace \"heavier\" by \"less\" and \"lighter\" by more\n",
    "\n",
    "df_merged.comparison.replace('heavier', 'less', inplace=True)\n",
    "df_merged.comparison.replace('lighter', 'more', inplace=True)\n",
    "\n",
    "# Now we can read bottle_2 is less that 5.55 directly"
   ]
  },
  {
   "cell_type": "code",
   "execution_count": 219,
   "metadata": {},
   "outputs": [
    {
     "data": {
      "text/html": [
       "<div>\n",
       "<style scoped>\n",
       "    .dataframe tbody tr th:only-of-type {\n",
       "        vertical-align: middle;\n",
       "    }\n",
       "\n",
       "    .dataframe tbody tr th {\n",
       "        vertical-align: top;\n",
       "    }\n",
       "\n",
       "    .dataframe thead th {\n",
       "        text-align: right;\n",
       "    }\n",
       "</style>\n",
       "<table border=\"1\" class=\"dataframe\">\n",
       "  <thead>\n",
       "    <tr style=\"text-align: right;\">\n",
       "      <th></th>\n",
       "      <th>bottle_2</th>\n",
       "      <th>comparison</th>\n",
       "      <th>weight</th>\n",
       "    </tr>\n",
       "  </thead>\n",
       "  <tbody>\n",
       "    <tr>\n",
       "      <th>403</th>\n",
       "      <td>57</td>\n",
       "      <td>less</td>\n",
       "      <td>5.55</td>\n",
       "    </tr>\n",
       "    <tr>\n",
       "      <th>404</th>\n",
       "      <td>412</td>\n",
       "      <td>less</td>\n",
       "      <td>5.55</td>\n",
       "    </tr>\n",
       "    <tr>\n",
       "      <th>405</th>\n",
       "      <td>865</td>\n",
       "      <td>less</td>\n",
       "      <td>5.55</td>\n",
       "    </tr>\n",
       "    <tr>\n",
       "      <th>406</th>\n",
       "      <td>993</td>\n",
       "      <td>less</td>\n",
       "      <td>5.55</td>\n",
       "    </tr>\n",
       "    <tr>\n",
       "      <th>407</th>\n",
       "      <td>1137</td>\n",
       "      <td>less</td>\n",
       "      <td>5.55</td>\n",
       "    </tr>\n",
       "  </tbody>\n",
       "</table>\n",
       "</div>"
      ],
      "text/plain": [
       "     bottle_2 comparison  weight\n",
       "403        57       less    5.55\n",
       "404       412       less    5.55\n",
       "405       865       less    5.55\n",
       "406       993       less    5.55\n",
       "407      1137       less    5.55"
      ]
     },
     "execution_count": 219,
     "metadata": {},
     "output_type": "execute_result"
    }
   ],
   "source": [
    "df_merged = df_merged[['bottle_2', 'comparison', 'weight']]\n",
    "df_merged.head()"
   ]
  },
  {
   "cell_type": "code",
   "execution_count": 220,
   "metadata": {},
   "outputs": [],
   "source": [
    "#df_merged.shape"
   ]
  },
  {
   "cell_type": "code",
   "execution_count": 221,
   "metadata": {},
   "outputs": [
    {
     "name": "stderr",
     "output_type": "stream",
     "text": [
      "/Users/medhyvinceslas/anaconda3/lib/python3.6/site-packages/ipykernel_launcher.py:4: SettingWithCopyWarning: \n",
      "A value is trying to be set on a copy of a slice from a DataFrame.\n",
      "Try using .loc[row_indexer,col_indexer] = value instead\n",
      "\n",
      "See the caveats in the documentation: http://pandas.pydata.org/pandas-docs/stable/indexing.html#indexing-view-versus-copy\n",
      "  after removing the cwd from sys.path.\n",
      "/Users/medhyvinceslas/anaconda3/lib/python3.6/site-packages/ipykernel_launcher.py:7: SettingWithCopyWarning: \n",
      "A value is trying to be set on a copy of a slice from a DataFrame.\n",
      "Try using .loc[row_indexer,col_indexer] = value instead\n",
      "\n",
      "See the caveats in the documentation: http://pandas.pydata.org/pandas-docs/stable/indexing.html#indexing-view-versus-copy\n",
      "  import sys\n"
     ]
    }
   ],
   "source": [
    "# SAME AS ABOVE\n",
    "\n",
    "df_lighter = df_merged[df_merged.comparison == 'less']\n",
    "df_lighter['max_weight_possible'] = df_lighter.weight - 0.2\n",
    "\n",
    "df_heavier = df_merged[df_merged.comparison == 'more']\n",
    "df_heavier['min_weight_possible'] = df_heavier.weight + 0.2"
   ]
  },
  {
   "cell_type": "code",
   "execution_count": 222,
   "metadata": {},
   "outputs": [
    {
     "data": {
      "text/html": [
       "<div>\n",
       "<style scoped>\n",
       "    .dataframe tbody tr th:only-of-type {\n",
       "        vertical-align: middle;\n",
       "    }\n",
       "\n",
       "    .dataframe tbody tr th {\n",
       "        vertical-align: top;\n",
       "    }\n",
       "\n",
       "    .dataframe thead th {\n",
       "        text-align: right;\n",
       "    }\n",
       "</style>\n",
       "<table border=\"1\" class=\"dataframe\">\n",
       "  <thead>\n",
       "    <tr style=\"text-align: right;\">\n",
       "      <th></th>\n",
       "      <th>bottle_2</th>\n",
       "      <th>min_weight_possible</th>\n",
       "      <th>max_weight_possible</th>\n",
       "      <th>possible_weight_high_confidence</th>\n",
       "    </tr>\n",
       "  </thead>\n",
       "  <tbody>\n",
       "    <tr>\n",
       "      <th>0</th>\n",
       "      <td>8606</td>\n",
       "      <td>4.46</td>\n",
       "      <td>4.920</td>\n",
       "      <td>4.6900</td>\n",
       "    </tr>\n",
       "    <tr>\n",
       "      <th>1</th>\n",
       "      <td>5290</td>\n",
       "      <td>3.45</td>\n",
       "      <td>4.185</td>\n",
       "      <td>3.8175</td>\n",
       "    </tr>\n",
       "    <tr>\n",
       "      <th>2</th>\n",
       "      <td>5605</td>\n",
       "      <td>3.45</td>\n",
       "      <td>4.060</td>\n",
       "      <td>3.7550</td>\n",
       "    </tr>\n",
       "    <tr>\n",
       "      <th>3</th>\n",
       "      <td>5605</td>\n",
       "      <td>3.45</td>\n",
       "      <td>4.140</td>\n",
       "      <td>3.7950</td>\n",
       "    </tr>\n",
       "    <tr>\n",
       "      <th>4</th>\n",
       "      <td>5727</td>\n",
       "      <td>3.45</td>\n",
       "      <td>4.920</td>\n",
       "      <td>4.1850</td>\n",
       "    </tr>\n",
       "  </tbody>\n",
       "</table>\n",
       "</div>"
      ],
      "text/plain": [
       "   bottle_2  min_weight_possible  max_weight_possible  \\\n",
       "0      8606                 4.46                4.920   \n",
       "1      5290                 3.45                4.185   \n",
       "2      5605                 3.45                4.060   \n",
       "3      5605                 3.45                4.140   \n",
       "4      5727                 3.45                4.920   \n",
       "\n",
       "   possible_weight_high_confidence  \n",
       "0                           4.6900  \n",
       "1                           3.8175  \n",
       "2                           3.7550  \n",
       "3                           3.7950  \n",
       "4                           4.1850  "
      ]
     },
     "execution_count": 222,
     "metadata": {},
     "output_type": "execute_result"
    }
   ],
   "source": [
    "df_merged = pd.merge(df_heavier, df_lighter, on='bottle_2')\n",
    "df_merged = df_merged[['bottle_2', 'min_weight_possible', 'max_weight_possible']]\n",
    "\n",
    "# Choose the mean of the confidence interval\n",
    "df_merged['possible_weight_high_confidence'] = (df_merged.min_weight_possible + df_merged.max_weight_possible)/2\n",
    "\n",
    "df_merged.head()"
   ]
  },
  {
   "cell_type": "code",
   "execution_count": 223,
   "metadata": {},
   "outputs": [],
   "source": [
    "# Prepare for merging\n",
    "\n",
    "df_merged = df_merged[['bottle_2', 'possible_weight_high_confidence']]\n",
    "df_merged['bottle'] = df_merged['bottle_2']\n",
    "\n",
    "df_merged.drop(labels='bottle_2', axis=1, inplace=True)\n",
    "df_merged.drop_duplicates(subset = ['bottle'] , inplace=True)\n",
    "\n",
    "# Merge\n",
    "df_bottles = pd.merge(df_bottles, df_merged, how='outer', on='bottle')"
   ]
  },
  {
   "cell_type": "code",
   "execution_count": 224,
   "metadata": {},
   "outputs": [],
   "source": [
    "#df_bottles.shape"
   ]
  },
  {
   "cell_type": "code",
   "execution_count": 225,
   "metadata": {},
   "outputs": [
    {
     "data": {
      "text/html": [
       "<div>\n",
       "<style scoped>\n",
       "    .dataframe tbody tr th:only-of-type {\n",
       "        vertical-align: middle;\n",
       "    }\n",
       "\n",
       "    .dataframe tbody tr th {\n",
       "        vertical-align: top;\n",
       "    }\n",
       "\n",
       "    .dataframe thead th {\n",
       "        text-align: right;\n",
       "    }\n",
       "</style>\n",
       "<table border=\"1\" class=\"dataframe\">\n",
       "  <thead>\n",
       "    <tr style=\"text-align: right;\">\n",
       "      <th></th>\n",
       "      <th>bottle</th>\n",
       "      <th>producer</th>\n",
       "      <th>color</th>\n",
       "      <th>shape</th>\n",
       "      <th>age</th>\n",
       "      <th>weight</th>\n",
       "      <th>simple_surface</th>\n",
       "      <th>color_shape</th>\n",
       "      <th>possible_weight_high_confidence</th>\n",
       "    </tr>\n",
       "  </thead>\n",
       "  <tbody>\n",
       "  </tbody>\n",
       "</table>\n",
       "</div>"
      ],
      "text/plain": [
       "Empty DataFrame\n",
       "Columns: [bottle, producer, color, shape, age, weight, simple_surface, color_shape, possible_weight_high_confidence]\n",
       "Index: []"
      ]
     },
     "execution_count": 225,
     "metadata": {},
     "output_type": "execute_result"
    }
   ],
   "source": [
    "df_bottles[(df_bottles.weight.notnull()) & (df_bottles.possible_weight_high_confidence.notnull())]"
   ]
  },
  {
   "cell_type": "code",
   "execution_count": 226,
   "metadata": {},
   "outputs": [],
   "source": [
    "# Replace NaN by 0\n",
    "# Add possible weight & weight\n",
    "# replace 0 by NaN\n",
    "\n",
    "df_bottles.weight.fillna(0, inplace=True)\n",
    "df_bottles.possible_weight_high_confidence.fillna(0, inplace=True)\n",
    "\n",
    "df_bottles.weight = df_bottles.weight + df_bottles.possible_weight_high_confidence\n",
    "df_bottles.weight.replace(0, np.nan, inplace=True)\n",
    "df_bottles.drop(labels='possible_weight_high_confidence', axis=1, inplace=True)"
   ]
  },
  {
   "cell_type": "code",
   "execution_count": 227,
   "metadata": {},
   "outputs": [
    {
     "data": {
      "text/plain": [
       "bottle               0\n",
       "producer             0\n",
       "color                0\n",
       "shape                0\n",
       "age                  0\n",
       "weight            9887\n",
       "simple_surface       0\n",
       "color_shape          0\n",
       "dtype: int64"
      ]
     },
     "execution_count": 227,
     "metadata": {},
     "output_type": "execute_result"
    }
   ],
   "source": [
    "df_bottles.isnull().sum()"
   ]
  },
  {
   "cell_type": "code",
   "execution_count": 228,
   "metadata": {},
   "outputs": [],
   "source": [
    "#df_bottles.to_csv('train.csv')      #THIS IS FOR MY 2nd APPROACH OF THE PROBLEM (AT THE END), Let's Continue"
   ]
  },
  {
   "cell_type": "markdown",
   "metadata": {},
   "source": [
    "#### At the beginning we had 20 bottles with their wheight, Now We have 113"
   ]
  },
  {
   "cell_type": "markdown",
   "metadata": {},
   "source": [
    "# 1st Approach - Fill the remain bottles weight by confidence interval"
   ]
  },
  {
   "cell_type": "code",
   "execution_count": 229,
   "metadata": {},
   "outputs": [
    {
     "data": {
      "text/plain": [
       "color_shape\n",
       "blue_artistic       2\n",
       "blue_long           5\n",
       "blue_onion          4\n",
       "blue_premium        7\n",
       "green_artistic      6\n",
       "green_long         51\n",
       "green_onion         8\n",
       "green_premium      17\n",
       "yellow_artistic     0\n",
       "yellow_long         8\n",
       "yellow_onion        2\n",
       "yellow_premium      3\n",
       "Name: weight, dtype: int64"
      ]
     },
     "execution_count": 229,
     "metadata": {},
     "output_type": "execute_result"
    }
   ],
   "source": [
    "df_bottles.groupby('color_shape')['weight'].count()"
   ]
  },
  {
   "cell_type": "markdown",
   "metadata": {},
   "source": [
    "The color and shape has a big impact as a feature importance, so let try taking this in consideration in order to fill the weight using interval of confidence"
   ]
  },
  {
   "cell_type": "code",
   "execution_count": 230,
   "metadata": {},
   "outputs": [],
   "source": [
    "# cut the age\n",
    "df_bottles['age_cut'] = pd.cut(df_bottles.age, [0, 36, 60], include_lowest=True)\n",
    "\n",
    "# cut the surface\n",
    "df_bottles['surface_cut'] = pd.cut(df_bottles.simple_surface, [0, 300, 700])"
   ]
  },
  {
   "cell_type": "code",
   "execution_count": null,
   "metadata": {},
   "outputs": [],
   "source": []
  },
  {
   "cell_type": "markdown",
   "metadata": {},
   "source": [
    "### Fill weight by Interval of confidence"
   ]
  },
  {
   "cell_type": "markdown",
   "metadata": {},
   "source": [
    "Mean estimated"
   ]
  },
  {
   "cell_type": "markdown",
   "metadata": {},
   "source": [
    "$$\\bar x = m_e$$"
   ]
  },
  {
   "cell_type": "markdown",
   "metadata": {},
   "source": [
    "std estimated"
   ]
  },
  {
   "cell_type": "markdown",
   "metadata": {},
   "source": [
    "$$\\sigma = \\sigma_e * \\sqrt{n/(n-1)}$$"
   ]
  },
  {
   "cell_type": "markdown",
   "metadata": {},
   "source": [
    "Interval of confidence"
   ]
  },
  {
   "cell_type": "markdown",
   "metadata": {},
   "source": [
    "$$ [ \\bar x - t_\\alpha * \\sigma/\\sqrt{n}  ...  \\bar x + t_\\alpha * \\sigma/\\sqrt{n} ] $$"
   ]
  },
  {
   "cell_type": "code",
   "execution_count": 231,
   "metadata": {},
   "outputs": [],
   "source": [
    "def interval_of_confidence(attr,value_attr, n):\n",
    "    std_estimated = df_bottles[df_bottles[attr] == value_attr].weight.std() * np.sqrt(n/(n-1))\n",
    "    mean_estimated = df_bottles[df_bottles[attr] == value_attr].weight.mean()\n",
    "    tx = 1.96\n",
    "    inf = mean_estimated - tx * (std_estimated / np.sqrt(n))\n",
    "    sup = mean_estimated + tx * (std_estimated / np.sqrt(n))\n",
    "    return inf, sup"
   ]
  },
  {
   "cell_type": "markdown",
   "metadata": {},
   "source": [
    "#### Example of what I'll do in the next section for each feature (Here by color)"
   ]
  },
  {
   "cell_type": "code",
   "execution_count": 232,
   "metadata": {},
   "outputs": [],
   "source": [
    "n = len(df_bottles.dropna())  #nb of observations"
   ]
  },
  {
   "cell_type": "code",
   "execution_count": 233,
   "metadata": {},
   "outputs": [
    {
     "data": {
      "text/plain": [
       "color\n",
       "blue      18\n",
       "green     82\n",
       "yellow    13\n",
       "Name: weight, dtype: int64"
      ]
     },
     "execution_count": 233,
     "metadata": {},
     "output_type": "execute_result"
    }
   ],
   "source": [
    "df_bottles.groupby('color')['weight'].count()"
   ]
  },
  {
   "cell_type": "code",
   "execution_count": 234,
   "metadata": {},
   "outputs": [
    {
     "name": "stdout",
     "output_type": "stream",
     "text": [
      "for blue : (4.1011967293383664, 4.3971366039949666)\n",
      "for green : (4.0739349816334078, 4.3419186769031812)\n",
      "for yellow : (4.0633806626321665, 4.2620039527524476)\n"
     ]
    }
   ],
   "source": [
    "dict_Color_N = dict(df_bottles.groupby('color')['weight'].count())  #N = observations\n",
    "\n",
    "for key, val in dict_Color_N.items():\n",
    "    print(f\"for {key} : {interval_of_confidence('color',key, n)}\")"
   ]
  },
  {
   "cell_type": "code",
   "execution_count": 235,
   "metadata": {},
   "outputs": [],
   "source": [
    "import scipy.stats as ss"
   ]
  },
  {
   "cell_type": "code",
   "execution_count": null,
   "metadata": {},
   "outputs": [],
   "source": []
  },
  {
   "cell_type": "markdown",
   "metadata": {},
   "source": [
    "****"
   ]
  },
  {
   "cell_type": "code",
   "execution_count": 236,
   "metadata": {},
   "outputs": [],
   "source": [
    "df_bottles['age_cut'] = df_bottles['age_cut'].astype(str)\n",
    "df_bottles['surface_cut'] = df_bottles['surface_cut'].astype(str)"
   ]
  },
  {
   "cell_type": "markdown",
   "metadata": {},
   "source": [
    "### Compute all the Inferior edge of confidence interval"
   ]
  },
  {
   "cell_type": "code",
   "execution_count": 237,
   "metadata": {},
   "outputs": [],
   "source": [
    "def inferior_color(data):\n",
    "    if data == 'blue':\n",
    "        inf = ss.bayes_mvs(df_bottles[df_bottles['color'] == 'blue'].weight.dropna())[0][1][0]\n",
    "    elif data == 'green':\n",
    "        inf = ss.bayes_mvs(df_bottles[df_bottles['color'] == 'green'].weight.dropna())[0][1][0]\n",
    "    else :\n",
    "        inf = ss.bayes_mvs(df_bottles[df_bottles['color'] == 'yellow'].weight.dropna())[0][1][0]\n",
    "    return inf\n",
    "\n",
    "df_bottles['inferior_color'] = df_bottles.color.apply(inferior_color)\n",
    "\n",
    "\n",
    "#-----------------------------------------------------------------------------------------------------------------------------------------------#\n",
    "\n",
    "\n",
    "def inferior_shape(data):\n",
    "    if data == 'artistic':\n",
    "        inf = ss.bayes_mvs(df_bottles[df_bottles['shape'] == 'artistic'].weight.dropna())[0][1][0]\n",
    "    elif data == 'long':\n",
    "        inf = ss.bayes_mvs(df_bottles[df_bottles['shape'] == 'long'].weight.dropna())[0][1][0]\n",
    "    elif data == 'onion':\n",
    "        inf = ss.bayes_mvs(df_bottles[df_bottles['shape'] == 'onion'].weight.dropna())[0][1][0]\n",
    "    else :\n",
    "        inf = ss.bayes_mvs(df_bottles[df_bottles['shape'] == 'premium'].weight.dropna())[0][1][0]\n",
    "    return inf\n",
    "\n",
    "df_bottles['inferior_shape'] = df_bottles['shape'].apply(inferior_shape)\n",
    "\n",
    "\n",
    "#-----------------------------------------------------------------------------------------------------------------------------------------------#\n",
    "\n",
    "\n",
    "\n",
    "def inferior_age(data):\n",
    "    if data == '(-0.001, 36.0]':\n",
    "        inf = ss.bayes_mvs(df_bottles[df_bottles['age_cut'] == '(-0.001, 36.0]'].weight.dropna())[0][1][0]\n",
    "    else :\n",
    "        inf = ss.bayes_mvs(df_bottles[df_bottles['age_cut'] == '(36.0, 60.0]'].weight.dropna())[0][1][0]\n",
    "    return inf\n",
    "\n",
    "df_bottles['inferior_age'] = df_bottles.age_cut.apply(inferior_age)\n",
    "\n",
    "\n",
    "\n",
    "#-----------------------------------------------------------------------------------------------------------------------------------------------#\n",
    "\n",
    "\n",
    "\n",
    "def inferior_surface(data):\n",
    "    if data == '(0, 300]':\n",
    "        inf = ss.bayes_mvs(df_bottles[df_bottles['surface_cut'] == '(0, 300]'].weight.dropna())[0][1][0]\n",
    "    else :\n",
    "        inf = ss.bayes_mvs(df_bottles[df_bottles['surface_cut'] == '(300, 700]'].weight.dropna())[0][1][0]\n",
    "    return inf\n",
    "\n",
    "df_bottles['inferior_surface'] = df_bottles.surface_cut.apply(inferior_surface)"
   ]
  },
  {
   "cell_type": "code",
   "execution_count": 238,
   "metadata": {},
   "outputs": [],
   "source": [
    "# Create a column that return the minimum inferior edge of the row\n",
    "df_bottles['inferior_interval'] = df_bottles[['inferior_color','inferior_shape','inferior_age','inferior_surface']].min(axis=1)"
   ]
  },
  {
   "cell_type": "code",
   "execution_count": 239,
   "metadata": {},
   "outputs": [
    {
     "data": {
      "text/html": [
       "<div>\n",
       "<style scoped>\n",
       "    .dataframe tbody tr th:only-of-type {\n",
       "        vertical-align: middle;\n",
       "    }\n",
       "\n",
       "    .dataframe tbody tr th {\n",
       "        vertical-align: top;\n",
       "    }\n",
       "\n",
       "    .dataframe thead th {\n",
       "        text-align: right;\n",
       "    }\n",
       "</style>\n",
       "<table border=\"1\" class=\"dataframe\">\n",
       "  <thead>\n",
       "    <tr style=\"text-align: right;\">\n",
       "      <th></th>\n",
       "      <th>bottle</th>\n",
       "      <th>producer</th>\n",
       "      <th>color</th>\n",
       "      <th>shape</th>\n",
       "      <th>age</th>\n",
       "      <th>weight</th>\n",
       "      <th>simple_surface</th>\n",
       "      <th>color_shape</th>\n",
       "      <th>age_cut</th>\n",
       "      <th>surface_cut</th>\n",
       "      <th>inferior_color</th>\n",
       "      <th>inferior_shape</th>\n",
       "      <th>inferior_age</th>\n",
       "      <th>inferior_surface</th>\n",
       "      <th>inferior_interval</th>\n",
       "    </tr>\n",
       "  </thead>\n",
       "  <tbody>\n",
       "    <tr>\n",
       "      <th>0</th>\n",
       "      <td>0</td>\n",
       "      <td>Pietro</td>\n",
       "      <td>green</td>\n",
       "      <td>long</td>\n",
       "      <td>33</td>\n",
       "      <td>NaN</td>\n",
       "      <td>305.4592</td>\n",
       "      <td>green_long</td>\n",
       "      <td>(-0.001, 36.0]</td>\n",
       "      <td>(300, 700]</td>\n",
       "      <td>4.074989</td>\n",
       "      <td>3.783916</td>\n",
       "      <td>3.977158</td>\n",
       "      <td>4.031016</td>\n",
       "      <td>3.783916</td>\n",
       "    </tr>\n",
       "    <tr>\n",
       "      <th>1</th>\n",
       "      <td>1</td>\n",
       "      <td>Romeo</td>\n",
       "      <td>green</td>\n",
       "      <td>onion</td>\n",
       "      <td>22</td>\n",
       "      <td>NaN</td>\n",
       "      <td>343.2088</td>\n",
       "      <td>green_onion</td>\n",
       "      <td>(-0.001, 36.0]</td>\n",
       "      <td>(300, 700]</td>\n",
       "      <td>4.074989</td>\n",
       "      <td>4.538671</td>\n",
       "      <td>3.977158</td>\n",
       "      <td>4.031016</td>\n",
       "      <td>3.977158</td>\n",
       "    </tr>\n",
       "    <tr>\n",
       "      <th>2</th>\n",
       "      <td>2</td>\n",
       "      <td>Pietro</td>\n",
       "      <td>blue</td>\n",
       "      <td>long</td>\n",
       "      <td>33</td>\n",
       "      <td>NaN</td>\n",
       "      <td>360.7825</td>\n",
       "      <td>blue_long</td>\n",
       "      <td>(-0.001, 36.0]</td>\n",
       "      <td>(300, 700]</td>\n",
       "      <td>3.921569</td>\n",
       "      <td>3.783916</td>\n",
       "      <td>3.977158</td>\n",
       "      <td>4.031016</td>\n",
       "      <td>3.783916</td>\n",
       "    </tr>\n",
       "    <tr>\n",
       "      <th>3</th>\n",
       "      <td>3</td>\n",
       "      <td>Monica</td>\n",
       "      <td>green</td>\n",
       "      <td>onion</td>\n",
       "      <td>56</td>\n",
       "      <td>NaN</td>\n",
       "      <td>356.4872</td>\n",
       "      <td>green_onion</td>\n",
       "      <td>(36.0, 60.0]</td>\n",
       "      <td>(300, 700]</td>\n",
       "      <td>4.074989</td>\n",
       "      <td>4.538671</td>\n",
       "      <td>4.154404</td>\n",
       "      <td>4.031016</td>\n",
       "      <td>4.031016</td>\n",
       "    </tr>\n",
       "    <tr>\n",
       "      <th>4</th>\n",
       "      <td>4</td>\n",
       "      <td>Pietro</td>\n",
       "      <td>green</td>\n",
       "      <td>long</td>\n",
       "      <td>36</td>\n",
       "      <td>NaN</td>\n",
       "      <td>302.2728</td>\n",
       "      <td>green_long</td>\n",
       "      <td>(-0.001, 36.0]</td>\n",
       "      <td>(300, 700]</td>\n",
       "      <td>4.074989</td>\n",
       "      <td>3.783916</td>\n",
       "      <td>3.977158</td>\n",
       "      <td>4.031016</td>\n",
       "      <td>3.783916</td>\n",
       "    </tr>\n",
       "  </tbody>\n",
       "</table>\n",
       "</div>"
      ],
      "text/plain": [
       "   bottle producer  color  shape  age  weight  simple_surface  color_shape  \\\n",
       "0       0   Pietro  green   long   33     NaN        305.4592   green_long   \n",
       "1       1    Romeo  green  onion   22     NaN        343.2088  green_onion   \n",
       "2       2   Pietro   blue   long   33     NaN        360.7825    blue_long   \n",
       "3       3   Monica  green  onion   56     NaN        356.4872  green_onion   \n",
       "4       4   Pietro  green   long   36     NaN        302.2728   green_long   \n",
       "\n",
       "          age_cut surface_cut  inferior_color  inferior_shape  inferior_age  \\\n",
       "0  (-0.001, 36.0]  (300, 700]        4.074989        3.783916      3.977158   \n",
       "1  (-0.001, 36.0]  (300, 700]        4.074989        4.538671      3.977158   \n",
       "2  (-0.001, 36.0]  (300, 700]        3.921569        3.783916      3.977158   \n",
       "3    (36.0, 60.0]  (300, 700]        4.074989        4.538671      4.154404   \n",
       "4  (-0.001, 36.0]  (300, 700]        4.074989        3.783916      3.977158   \n",
       "\n",
       "   inferior_surface  inferior_interval  \n",
       "0          4.031016           3.783916  \n",
       "1          4.031016           3.977158  \n",
       "2          4.031016           3.783916  \n",
       "3          4.031016           4.031016  \n",
       "4          4.031016           3.783916  "
      ]
     },
     "execution_count": 239,
     "metadata": {},
     "output_type": "execute_result"
    }
   ],
   "source": [
    "df_bottles.head()"
   ]
  },
  {
   "cell_type": "code",
   "execution_count": 240,
   "metadata": {},
   "outputs": [],
   "source": [
    "# Now we can drop all the inferior columns and keep only the minimum edge\n",
    "to_drop = ['inferior_color','inferior_shape','inferior_age','inferior_surface']\n",
    "\n",
    "df_bottles.drop(labels=to_drop, axis=1, inplace=True)"
   ]
  },
  {
   "cell_type": "markdown",
   "metadata": {},
   "source": [
    "### Compute all the Superior edge of confidence interval"
   ]
  },
  {
   "cell_type": "code",
   "execution_count": 241,
   "metadata": {},
   "outputs": [],
   "source": [
    "def superior_color(data):\n",
    "    if data == 'blue':\n",
    "        sup = ss.bayes_mvs(df_bottles[df_bottles['color'] == 'blue'].weight.dropna())[0][1][1]\n",
    "    elif data == 'green':\n",
    "        sup = ss.bayes_mvs(df_bottles[df_bottles['color'] == 'green'].weight.dropna())[0][1][1]\n",
    "    else :\n",
    "        sup = ss.bayes_mvs(df_bottles[df_bottles['color'] == 'yellow'].weight.dropna())[0][1][1]\n",
    "    return sup\n",
    "\n",
    "df_bottles['superior_color'] = df_bottles.color.apply(superior_color)\n",
    "\n",
    "\n",
    "#-------------------------------------------------------------------------------------------------------------------------------------------------------#\n",
    "\n",
    "\n",
    "def superior_shape(data):\n",
    "    if data == 'artistic':\n",
    "        sup = ss.bayes_mvs(df_bottles[df_bottles['shape'] == 'artistic'].weight.dropna())[0][1][0]\n",
    "    elif data == 'long':\n",
    "        sup = ss.bayes_mvs(df_bottles[df_bottles['shape'] == 'long'].weight.dropna())[0][1][0]\n",
    "    elif data == 'onion':\n",
    "        sup = ss.bayes_mvs(df_bottles[df_bottles['shape'] == 'onion'].weight.dropna())[0][1][0]\n",
    "    else :\n",
    "        sup = ss.bayes_mvs(df_bottles[df_bottles['shape'] == 'premium'].weight.dropna())[0][1][0]\n",
    "    return sup\n",
    "\n",
    "df_bottles['superior_shape'] = df_bottles['shape'].apply(superior_shape)\n",
    "\n",
    "\n",
    "#-------------------------------------------------------------------------------------------------------------------------------------------------------#\n",
    "\n",
    "\n",
    "\n",
    "def superior_age(data):\n",
    "    if data == '(-0.001, 36.0]':\n",
    "        sup = ss.bayes_mvs(df_bottles[df_bottles['age_cut'] == '(-0.001, 36.0]'].weight.dropna())[0][1][0]\n",
    "    else :\n",
    "        sup = ss.bayes_mvs(df_bottles[df_bottles['age_cut'] == '(36.0, 60.0]'].weight.dropna())[0][1][0]\n",
    "    return sup\n",
    "\n",
    "df_bottles['superior_age'] = df_bottles.age_cut.apply(superior_age)\n",
    "\n",
    "\n",
    "\n",
    "#-------------------------------------------------------------------------------------------------------------------------------------------------------#\n",
    "\n",
    "\n",
    "\n",
    "def superior_surface(data):\n",
    "    if data == '(0, 300]':\n",
    "        sup = ss.bayes_mvs(df_bottles[df_bottles['surface_cut'] == '(0, 300]'].weight.dropna())[0][1][0]\n",
    "    else :\n",
    "        sup = ss.bayes_mvs(df_bottles[df_bottles['surface_cut'] == '(300, 700]'].weight.dropna())[0][1][0]\n",
    "    return sup\n",
    "\n",
    "df_bottles['superior_surface'] = df_bottles.surface_cut.apply(superior_surface)"
   ]
  },
  {
   "cell_type": "code",
   "execution_count": 242,
   "metadata": {},
   "outputs": [],
   "source": [
    "# Create a column that return the maximum superior edge of the row\n",
    "df_bottles['superior_interval'] = df_bottles[['superior_color','superior_shape','superior_age','superior_surface']].max(axis=1)"
   ]
  },
  {
   "cell_type": "code",
   "execution_count": 243,
   "metadata": {},
   "outputs": [],
   "source": [
    "# Now we can drop all the superior columns and keep only the sup edge\n",
    "to_drop = ['superior_color','superior_shape','superior_age','superior_surface']\n",
    "\n",
    "df_bottles.drop(labels=to_drop, axis=1, inplace=True)"
   ]
  },
  {
   "cell_type": "code",
   "execution_count": 244,
   "metadata": {},
   "outputs": [
    {
     "data": {
      "text/html": [
       "<div>\n",
       "<style scoped>\n",
       "    .dataframe tbody tr th:only-of-type {\n",
       "        vertical-align: middle;\n",
       "    }\n",
       "\n",
       "    .dataframe tbody tr th {\n",
       "        vertical-align: top;\n",
       "    }\n",
       "\n",
       "    .dataframe thead th {\n",
       "        text-align: right;\n",
       "    }\n",
       "</style>\n",
       "<table border=\"1\" class=\"dataframe\">\n",
       "  <thead>\n",
       "    <tr style=\"text-align: right;\">\n",
       "      <th></th>\n",
       "      <th>bottle</th>\n",
       "      <th>producer</th>\n",
       "      <th>color</th>\n",
       "      <th>shape</th>\n",
       "      <th>age</th>\n",
       "      <th>weight</th>\n",
       "      <th>simple_surface</th>\n",
       "      <th>color_shape</th>\n",
       "      <th>age_cut</th>\n",
       "      <th>surface_cut</th>\n",
       "      <th>inferior_interval</th>\n",
       "      <th>superior_interval</th>\n",
       "    </tr>\n",
       "  </thead>\n",
       "  <tbody>\n",
       "    <tr>\n",
       "      <th>0</th>\n",
       "      <td>0</td>\n",
       "      <td>Pietro</td>\n",
       "      <td>green</td>\n",
       "      <td>long</td>\n",
       "      <td>33</td>\n",
       "      <td>NaN</td>\n",
       "      <td>305.4592</td>\n",
       "      <td>green_long</td>\n",
       "      <td>(-0.001, 36.0]</td>\n",
       "      <td>(300, 700]</td>\n",
       "      <td>3.783916</td>\n",
       "      <td>4.340864</td>\n",
       "    </tr>\n",
       "    <tr>\n",
       "      <th>1</th>\n",
       "      <td>1</td>\n",
       "      <td>Romeo</td>\n",
       "      <td>green</td>\n",
       "      <td>onion</td>\n",
       "      <td>22</td>\n",
       "      <td>NaN</td>\n",
       "      <td>343.2088</td>\n",
       "      <td>green_onion</td>\n",
       "      <td>(-0.001, 36.0]</td>\n",
       "      <td>(300, 700]</td>\n",
       "      <td>3.977158</td>\n",
       "      <td>4.538671</td>\n",
       "    </tr>\n",
       "    <tr>\n",
       "      <th>2</th>\n",
       "      <td>2</td>\n",
       "      <td>Pietro</td>\n",
       "      <td>blue</td>\n",
       "      <td>long</td>\n",
       "      <td>33</td>\n",
       "      <td>NaN</td>\n",
       "      <td>360.7825</td>\n",
       "      <td>blue_long</td>\n",
       "      <td>(-0.001, 36.0]</td>\n",
       "      <td>(300, 700]</td>\n",
       "      <td>3.783916</td>\n",
       "      <td>4.576765</td>\n",
       "    </tr>\n",
       "    <tr>\n",
       "      <th>3</th>\n",
       "      <td>3</td>\n",
       "      <td>Monica</td>\n",
       "      <td>green</td>\n",
       "      <td>onion</td>\n",
       "      <td>56</td>\n",
       "      <td>NaN</td>\n",
       "      <td>356.4872</td>\n",
       "      <td>green_onion</td>\n",
       "      <td>(36.0, 60.0]</td>\n",
       "      <td>(300, 700]</td>\n",
       "      <td>4.031016</td>\n",
       "      <td>4.538671</td>\n",
       "    </tr>\n",
       "    <tr>\n",
       "      <th>4</th>\n",
       "      <td>4</td>\n",
       "      <td>Pietro</td>\n",
       "      <td>green</td>\n",
       "      <td>long</td>\n",
       "      <td>36</td>\n",
       "      <td>NaN</td>\n",
       "      <td>302.2728</td>\n",
       "      <td>green_long</td>\n",
       "      <td>(-0.001, 36.0]</td>\n",
       "      <td>(300, 700]</td>\n",
       "      <td>3.783916</td>\n",
       "      <td>4.340864</td>\n",
       "    </tr>\n",
       "  </tbody>\n",
       "</table>\n",
       "</div>"
      ],
      "text/plain": [
       "   bottle producer  color  shape  age  weight  simple_surface  color_shape  \\\n",
       "0       0   Pietro  green   long   33     NaN        305.4592   green_long   \n",
       "1       1    Romeo  green  onion   22     NaN        343.2088  green_onion   \n",
       "2       2   Pietro   blue   long   33     NaN        360.7825    blue_long   \n",
       "3       3   Monica  green  onion   56     NaN        356.4872  green_onion   \n",
       "4       4   Pietro  green   long   36     NaN        302.2728   green_long   \n",
       "\n",
       "          age_cut surface_cut  inferior_interval  superior_interval  \n",
       "0  (-0.001, 36.0]  (300, 700]           3.783916           4.340864  \n",
       "1  (-0.001, 36.0]  (300, 700]           3.977158           4.538671  \n",
       "2  (-0.001, 36.0]  (300, 700]           3.783916           4.576765  \n",
       "3    (36.0, 60.0]  (300, 700]           4.031016           4.538671  \n",
       "4  (-0.001, 36.0]  (300, 700]           3.783916           4.340864  "
      ]
     },
     "execution_count": 244,
     "metadata": {},
     "output_type": "execute_result"
    }
   ],
   "source": [
    "df_bottles.head()"
   ]
  },
  {
   "cell_type": "code",
   "execution_count": 245,
   "metadata": {},
   "outputs": [],
   "source": [
    "df_bottles.weight.fillna(np.nan, inplace=True)\n",
    "\n",
    "#FILL WEIGHT WITH MEAN VALUE IN THE CONFIDENCE INTERVAL\n",
    "\n",
    "df_bottles.weight = np.where(df_bottles.weight.isnull(), (df_bottles.inferior_interval + df_bottles.superior_interval)/2,\n",
    "                                      df_bottles.weight)\n",
    "\n",
    "\n",
    "\n",
    "#FILL WEIGHT WITH RANDOM VALUE IN THE CONFIDENCE INTERVAL\n",
    "\n",
    "import random\n",
    "#df_bottles.weight = np.where(df_bottles.weight.isnull(), random.uniform(df_bottles.inferior_interval, df_bottles.superior_interval),\n",
    "                                                                        #df_bottles.weight)                          "
   ]
  },
  {
   "cell_type": "code",
   "execution_count": 246,
   "metadata": {},
   "outputs": [
    {
     "data": {
      "text/html": [
       "<div>\n",
       "<style scoped>\n",
       "    .dataframe tbody tr th:only-of-type {\n",
       "        vertical-align: middle;\n",
       "    }\n",
       "\n",
       "    .dataframe tbody tr th {\n",
       "        vertical-align: top;\n",
       "    }\n",
       "\n",
       "    .dataframe thead th {\n",
       "        text-align: right;\n",
       "    }\n",
       "</style>\n",
       "<table border=\"1\" class=\"dataframe\">\n",
       "  <thead>\n",
       "    <tr style=\"text-align: right;\">\n",
       "      <th></th>\n",
       "      <th>bottle</th>\n",
       "      <th>producer</th>\n",
       "      <th>color</th>\n",
       "      <th>shape</th>\n",
       "      <th>age</th>\n",
       "      <th>weight</th>\n",
       "      <th>simple_surface</th>\n",
       "      <th>color_shape</th>\n",
       "      <th>age_cut</th>\n",
       "      <th>surface_cut</th>\n",
       "      <th>inferior_interval</th>\n",
       "      <th>superior_interval</th>\n",
       "    </tr>\n",
       "  </thead>\n",
       "  <tbody>\n",
       "    <tr>\n",
       "      <th>0</th>\n",
       "      <td>0</td>\n",
       "      <td>Pietro</td>\n",
       "      <td>green</td>\n",
       "      <td>long</td>\n",
       "      <td>33</td>\n",
       "      <td>4.179773</td>\n",
       "      <td>305.4592</td>\n",
       "      <td>green_long</td>\n",
       "      <td>(-0.001, 36.0]</td>\n",
       "      <td>(300, 700]</td>\n",
       "      <td>3.783916</td>\n",
       "      <td>4.340864</td>\n",
       "    </tr>\n",
       "    <tr>\n",
       "      <th>1</th>\n",
       "      <td>1</td>\n",
       "      <td>Romeo</td>\n",
       "      <td>green</td>\n",
       "      <td>onion</td>\n",
       "      <td>22</td>\n",
       "      <td>4.376260</td>\n",
       "      <td>343.2088</td>\n",
       "      <td>green_onion</td>\n",
       "      <td>(-0.001, 36.0]</td>\n",
       "      <td>(300, 700]</td>\n",
       "      <td>3.977158</td>\n",
       "      <td>4.538671</td>\n",
       "    </tr>\n",
       "    <tr>\n",
       "      <th>2</th>\n",
       "      <td>2</td>\n",
       "      <td>Pietro</td>\n",
       "      <td>blue</td>\n",
       "      <td>long</td>\n",
       "      <td>33</td>\n",
       "      <td>4.347442</td>\n",
       "      <td>360.7825</td>\n",
       "      <td>blue_long</td>\n",
       "      <td>(-0.001, 36.0]</td>\n",
       "      <td>(300, 700]</td>\n",
       "      <td>3.783916</td>\n",
       "      <td>4.576765</td>\n",
       "    </tr>\n",
       "    <tr>\n",
       "      <th>3</th>\n",
       "      <td>3</td>\n",
       "      <td>Monica</td>\n",
       "      <td>green</td>\n",
       "      <td>onion</td>\n",
       "      <td>56</td>\n",
       "      <td>4.391838</td>\n",
       "      <td>356.4872</td>\n",
       "      <td>green_onion</td>\n",
       "      <td>(36.0, 60.0]</td>\n",
       "      <td>(300, 700]</td>\n",
       "      <td>4.031016</td>\n",
       "      <td>4.538671</td>\n",
       "    </tr>\n",
       "    <tr>\n",
       "      <th>4</th>\n",
       "      <td>4</td>\n",
       "      <td>Pietro</td>\n",
       "      <td>green</td>\n",
       "      <td>long</td>\n",
       "      <td>36</td>\n",
       "      <td>4.179773</td>\n",
       "      <td>302.2728</td>\n",
       "      <td>green_long</td>\n",
       "      <td>(-0.001, 36.0]</td>\n",
       "      <td>(300, 700]</td>\n",
       "      <td>3.783916</td>\n",
       "      <td>4.340864</td>\n",
       "    </tr>\n",
       "  </tbody>\n",
       "</table>\n",
       "</div>"
      ],
      "text/plain": [
       "   bottle producer  color  shape  age    weight  simple_surface  color_shape  \\\n",
       "0       0   Pietro  green   long   33  4.179773        305.4592   green_long   \n",
       "1       1    Romeo  green  onion   22  4.376260        343.2088  green_onion   \n",
       "2       2   Pietro   blue   long   33  4.347442        360.7825    blue_long   \n",
       "3       3   Monica  green  onion   56  4.391838        356.4872  green_onion   \n",
       "4       4   Pietro  green   long   36  4.179773        302.2728   green_long   \n",
       "\n",
       "          age_cut surface_cut  inferior_interval  superior_interval  \n",
       "0  (-0.001, 36.0]  (300, 700]           3.783916           4.340864  \n",
       "1  (-0.001, 36.0]  (300, 700]           3.977158           4.538671  \n",
       "2  (-0.001, 36.0]  (300, 700]           3.783916           4.576765  \n",
       "3    (36.0, 60.0]  (300, 700]           4.031016           4.538671  \n",
       "4  (-0.001, 36.0]  (300, 700]           3.783916           4.340864  "
      ]
     },
     "execution_count": 246,
     "metadata": {},
     "output_type": "execute_result"
    }
   ],
   "source": [
    "df_bottles.head()"
   ]
  },
  {
   "cell_type": "code",
   "execution_count": 247,
   "metadata": {},
   "outputs": [],
   "source": [
    "#drop the edges\n",
    "to_drop = ['inferior_interval', 'superior_interval']\n",
    "\n",
    "df_bottles.drop(labels=to_drop, axis=1, inplace=True)"
   ]
  },
  {
   "cell_type": "code",
   "execution_count": 248,
   "metadata": {},
   "outputs": [
    {
     "data": {
      "text/html": [
       "<div>\n",
       "<style scoped>\n",
       "    .dataframe tbody tr th:only-of-type {\n",
       "        vertical-align: middle;\n",
       "    }\n",
       "\n",
       "    .dataframe tbody tr th {\n",
       "        vertical-align: top;\n",
       "    }\n",
       "\n",
       "    .dataframe thead th {\n",
       "        text-align: right;\n",
       "    }\n",
       "</style>\n",
       "<table border=\"1\" class=\"dataframe\">\n",
       "  <thead>\n",
       "    <tr style=\"text-align: right;\">\n",
       "      <th></th>\n",
       "      <th>bottle</th>\n",
       "      <th>producer</th>\n",
       "      <th>color</th>\n",
       "      <th>shape</th>\n",
       "      <th>age</th>\n",
       "      <th>weight</th>\n",
       "      <th>simple_surface</th>\n",
       "      <th>color_shape</th>\n",
       "      <th>age_cut</th>\n",
       "      <th>surface_cut</th>\n",
       "    </tr>\n",
       "  </thead>\n",
       "  <tbody>\n",
       "    <tr>\n",
       "      <th>0</th>\n",
       "      <td>0</td>\n",
       "      <td>Pietro</td>\n",
       "      <td>green</td>\n",
       "      <td>long</td>\n",
       "      <td>33</td>\n",
       "      <td>4.179773</td>\n",
       "      <td>305.4592</td>\n",
       "      <td>green_long</td>\n",
       "      <td>(-0.001, 36.0]</td>\n",
       "      <td>(300, 700]</td>\n",
       "    </tr>\n",
       "    <tr>\n",
       "      <th>1</th>\n",
       "      <td>1</td>\n",
       "      <td>Romeo</td>\n",
       "      <td>green</td>\n",
       "      <td>onion</td>\n",
       "      <td>22</td>\n",
       "      <td>4.376260</td>\n",
       "      <td>343.2088</td>\n",
       "      <td>green_onion</td>\n",
       "      <td>(-0.001, 36.0]</td>\n",
       "      <td>(300, 700]</td>\n",
       "    </tr>\n",
       "    <tr>\n",
       "      <th>2</th>\n",
       "      <td>2</td>\n",
       "      <td>Pietro</td>\n",
       "      <td>blue</td>\n",
       "      <td>long</td>\n",
       "      <td>33</td>\n",
       "      <td>4.347442</td>\n",
       "      <td>360.7825</td>\n",
       "      <td>blue_long</td>\n",
       "      <td>(-0.001, 36.0]</td>\n",
       "      <td>(300, 700]</td>\n",
       "    </tr>\n",
       "    <tr>\n",
       "      <th>3</th>\n",
       "      <td>3</td>\n",
       "      <td>Monica</td>\n",
       "      <td>green</td>\n",
       "      <td>onion</td>\n",
       "      <td>56</td>\n",
       "      <td>4.391838</td>\n",
       "      <td>356.4872</td>\n",
       "      <td>green_onion</td>\n",
       "      <td>(36.0, 60.0]</td>\n",
       "      <td>(300, 700]</td>\n",
       "    </tr>\n",
       "    <tr>\n",
       "      <th>4</th>\n",
       "      <td>4</td>\n",
       "      <td>Pietro</td>\n",
       "      <td>green</td>\n",
       "      <td>long</td>\n",
       "      <td>36</td>\n",
       "      <td>4.179773</td>\n",
       "      <td>302.2728</td>\n",
       "      <td>green_long</td>\n",
       "      <td>(-0.001, 36.0]</td>\n",
       "      <td>(300, 700]</td>\n",
       "    </tr>\n",
       "  </tbody>\n",
       "</table>\n",
       "</div>"
      ],
      "text/plain": [
       "   bottle producer  color  shape  age    weight  simple_surface  color_shape  \\\n",
       "0       0   Pietro  green   long   33  4.179773        305.4592   green_long   \n",
       "1       1    Romeo  green  onion   22  4.376260        343.2088  green_onion   \n",
       "2       2   Pietro   blue   long   33  4.347442        360.7825    blue_long   \n",
       "3       3   Monica  green  onion   56  4.391838        356.4872  green_onion   \n",
       "4       4   Pietro  green   long   36  4.179773        302.2728   green_long   \n",
       "\n",
       "          age_cut surface_cut  \n",
       "0  (-0.001, 36.0]  (300, 700]  \n",
       "1  (-0.001, 36.0]  (300, 700]  \n",
       "2  (-0.001, 36.0]  (300, 700]  \n",
       "3    (36.0, 60.0]  (300, 700]  \n",
       "4  (-0.001, 36.0]  (300, 700]  "
      ]
     },
     "execution_count": 248,
     "metadata": {},
     "output_type": "execute_result"
    }
   ],
   "source": [
    "df_bottles.head()"
   ]
  },
  {
   "cell_type": "code",
   "execution_count": 249,
   "metadata": {},
   "outputs": [
    {
     "data": {
      "text/plain": [
       "bottle            0\n",
       "producer          0\n",
       "color             0\n",
       "shape             0\n",
       "age               0\n",
       "weight            0\n",
       "simple_surface    0\n",
       "color_shape       0\n",
       "age_cut           0\n",
       "surface_cut       0\n",
       "dtype: int64"
      ]
     },
     "execution_count": 249,
     "metadata": {},
     "output_type": "execute_result"
    }
   ],
   "source": [
    "df_bottles.isnull().sum()"
   ]
  },
  {
   "cell_type": "markdown",
   "metadata": {},
   "source": [
    "#### Let's build a model"
   ]
  },
  {
   "cell_type": "code",
   "execution_count": 250,
   "metadata": {},
   "outputs": [
    {
     "data": {
      "text/plain": [
       "Index(['bottle', 'producer', 'color', 'shape', 'age', 'weight',\n",
       "       'simple_surface', 'color_shape', 'age_cut', 'surface_cut'],\n",
       "      dtype='object')"
      ]
     },
     "execution_count": 250,
     "metadata": {},
     "output_type": "execute_result"
    }
   ],
   "source": [
    "df_bottles.columns"
   ]
  },
  {
   "cell_type": "code",
   "execution_count": 251,
   "metadata": {},
   "outputs": [],
   "source": [
    "#Convert into categorical features\n",
    "to_category = ['bottle', 'producer', 'color', 'shape', 'color_shape']\n",
    "\n",
    "for i in to_category:\n",
    "    df_bottles[i] = df_bottles[i].astype('category')"
   ]
  },
  {
   "cell_type": "code",
   "execution_count": 252,
   "metadata": {},
   "outputs": [
    {
     "name": "stdout",
     "output_type": "stream",
     "text": [
      "<class 'pandas.core.frame.DataFrame'>\n",
      "Int64Index: 10000 entries, 0 to 9999\n",
      "Data columns (total 10 columns):\n",
      "bottle            10000 non-null category\n",
      "producer          10000 non-null category\n",
      "color             10000 non-null category\n",
      "shape             10000 non-null category\n",
      "age               10000 non-null int64\n",
      "weight            10000 non-null float64\n",
      "simple_surface    10000 non-null float64\n",
      "color_shape       10000 non-null category\n",
      "age_cut           10000 non-null object\n",
      "surface_cut       10000 non-null object\n",
      "dtypes: category(5), float64(2), int64(1), object(2)\n",
      "memory usage: 926.3+ KB\n"
     ]
    }
   ],
   "source": [
    "df_bottles.info()"
   ]
  },
  {
   "cell_type": "code",
   "execution_count": 253,
   "metadata": {},
   "outputs": [],
   "source": [
    "# Select features for modeling\n",
    "df_modeling = df_bottles[['age', 'simple_surface', 'color', 'shape', 'weight']]"
   ]
  },
  {
   "cell_type": "code",
   "execution_count": 254,
   "metadata": {},
   "outputs": [
    {
     "name": "stdout",
     "output_type": "stream",
     "text": [
      "<class 'pandas.core.frame.DataFrame'>\n",
      "Int64Index: 10000 entries, 0 to 9999\n",
      "Data columns (total 5 columns):\n",
      "age               10000 non-null int64\n",
      "simple_surface    10000 non-null float64\n",
      "color             10000 non-null category\n",
      "shape             10000 non-null category\n",
      "weight            10000 non-null float64\n",
      "dtypes: category(2), float64(2), int64(1)\n",
      "memory usage: 332.3 KB\n"
     ]
    }
   ],
   "source": [
    "df_modeling.info()"
   ]
  },
  {
   "cell_type": "code",
   "execution_count": 255,
   "metadata": {},
   "outputs": [
    {
     "name": "stderr",
     "output_type": "stream",
     "text": [
      "/Users/medhyvinceslas/anaconda3/lib/python3.6/site-packages/pandas/core/generic.py:4401: SettingWithCopyWarning: \n",
      "A value is trying to be set on a copy of a slice from a DataFrame.\n",
      "Try using .loc[row_indexer,col_indexer] = value instead\n",
      "\n",
      "See the caveats in the documentation: http://pandas.pydata.org/pandas-docs/stable/indexing.html#indexing-view-versus-copy\n",
      "  self[name] = value\n"
     ]
    }
   ],
   "source": [
    "from sklearn.preprocessing import LabelEncoder\n",
    "\n",
    "le = LabelEncoder()\n",
    "le.fit(df_modeling.color)\n",
    "\n",
    "df_modeling.color = le.transform(df_modeling.color)"
   ]
  },
  {
   "cell_type": "code",
   "execution_count": 256,
   "metadata": {},
   "outputs": [
    {
     "name": "stderr",
     "output_type": "stream",
     "text": [
      "/Users/medhyvinceslas/anaconda3/lib/python3.6/site-packages/ipykernel_launcher.py:2: SettingWithCopyWarning: \n",
      "A value is trying to be set on a copy of a slice from a DataFrame.\n",
      "Try using .loc[row_indexer,col_indexer] = value instead\n",
      "\n",
      "See the caveats in the documentation: http://pandas.pydata.org/pandas-docs/stable/indexing.html#indexing-view-versus-copy\n",
      "  \n"
     ]
    }
   ],
   "source": [
    "le.fit(df_modeling['shape'])\n",
    "df_modeling['shape'] = le.transform(df_modeling['shape'])"
   ]
  },
  {
   "cell_type": "code",
   "execution_count": 257,
   "metadata": {},
   "outputs": [
    {
     "name": "stderr",
     "output_type": "stream",
     "text": [
      "/Users/medhyvinceslas/anaconda3/lib/python3.6/site-packages/ipykernel_launcher.py:4: SettingWithCopyWarning: \n",
      "A value is trying to be set on a copy of a slice from a DataFrame.\n",
      "Try using .loc[row_indexer,col_indexer] = value instead\n",
      "\n",
      "See the caveats in the documentation: http://pandas.pydata.org/pandas-docs/stable/indexing.html#indexing-view-versus-copy\n",
      "  after removing the cwd from sys.path.\n"
     ]
    }
   ],
   "source": [
    "to_category = ['shape', 'color']\n",
    "\n",
    "for i in to_category:\n",
    "    df_modeling[i] = df_modeling[i].astype('category')"
   ]
  },
  {
   "cell_type": "code",
   "execution_count": 258,
   "metadata": {},
   "outputs": [
    {
     "name": "stdout",
     "output_type": "stream",
     "text": [
      "<class 'pandas.core.frame.DataFrame'>\n",
      "Int64Index: 10000 entries, 0 to 9999\n",
      "Data columns (total 5 columns):\n",
      "age               10000 non-null int64\n",
      "simple_surface    10000 non-null float64\n",
      "color             10000 non-null category\n",
      "shape             10000 non-null category\n",
      "weight            10000 non-null float64\n",
      "dtypes: category(2), float64(2), int64(1)\n",
      "memory usage: 332.3 KB\n"
     ]
    }
   ],
   "source": [
    "df_modeling.info()"
   ]
  },
  {
   "cell_type": "markdown",
   "metadata": {},
   "source": [
    "#### Model"
   ]
  },
  {
   "cell_type": "code",
   "execution_count": 259,
   "metadata": {},
   "outputs": [],
   "source": [
    "X = df_modeling.drop(labels=['weight'], axis=1)\n",
    "y = df_modeling.weight"
   ]
  },
  {
   "cell_type": "code",
   "execution_count": 260,
   "metadata": {},
   "outputs": [],
   "source": [
    "from sklearn.model_selection import train_test_split\n",
    "X_train, X_test, y_train, y_test = train_test_split(X, y, test_size=0.28, random_state=21)"
   ]
  },
  {
   "cell_type": "code",
   "execution_count": 261,
   "metadata": {},
   "outputs": [],
   "source": [
    "from sklearn.pipeline import Pipeline\n",
    "from sklearn.preprocessing import StandardScaler\n",
    "import xgboost as xgb\n",
    "from sklearn.model_selection import GridSearchCV\n",
    "\n",
    "pipeline = Pipeline([\n",
    "    ('scale', StandardScaler()), #useless for tree based algo\n",
    "    ('model', xgb.XGBRegressor(objective='reg:linear', seed=123, n_estimators=500,\n",
    "                               learning_rate=0.008, max_depth=3, colsample_bytree=0.4))\n",
    "])\n",
    "\n",
    "\n",
    "#parameters = {\n",
    "              #'model__n_estimators': [500],\n",
    "              #'model__learning_rate': [4/500], #4/500 is the best\n",
    "              #'model__max_depth': [3],\n",
    "              #'model__colsample_bytree': [0.4],\n",
    "             #}\n",
    "\n",
    "#cv = GridSearchCV(pipeline, param_grid=parameters, verbose=1, scoring='neg_mean_squared_error', n_jobs=-1)\n",
    "#cv.fit(X_train, y_train)\n",
    "#y_pred = cv.predict(X_test)\n",
    "\n",
    "#best_params = cv.best_params_\n",
    "#print(f\"Best parameters : {best_params}\")\n",
    "\n",
    "pipeline.fit(X_train, y_train)\n",
    "y_pred = pipeline.predict(X_test)"
   ]
  },
  {
   "cell_type": "markdown",
   "metadata": {},
   "source": [
    "#### Evaluation : RSME"
   ]
  },
  {
   "cell_type": "code",
   "execution_count": 262,
   "metadata": {},
   "outputs": [
    {
     "name": "stdout",
     "output_type": "stream",
     "text": [
      "RMSE : 0.09712981244382828\n"
     ]
    }
   ],
   "source": [
    "from sklearn.metrics import mean_squared_error\n",
    "print(f\"RMSE : {np.sqrt(mean_squared_error(y_test, y_pred))}\")"
   ]
  },
  {
   "cell_type": "code",
   "execution_count": 263,
   "metadata": {},
   "outputs": [
    {
     "data": {
      "text/plain": [
       "<seaborn.axisgrid.JointGrid at 0x1150385c0>"
      ]
     },
     "execution_count": 263,
     "metadata": {},
     "output_type": "execute_result"
    },
    {
     "data": {
      "image/png": "[encoded data removed]",
      "text/plain": [
       "<matplotlib.figure.Figure at 0x1150387b8>"
      ]
     },
     "metadata": {},
     "output_type": "display_data"
    }
   ],
   "source": [
    "sns.jointplot(y_test, y_pred, data=X, size=10, kind=\"reg\")"
   ]
  },
  {
   "cell_type": "code",
   "execution_count": 264,
   "metadata": {},
   "outputs": [
    {
     "data": {
      "text/plain": [
       "<matplotlib.axes._subplots.AxesSubplot at 0x115f0abe0>"
      ]
     },
     "execution_count": 264,
     "metadata": {},
     "output_type": "execute_result"
    },
    {
     "data": {
      "image/png": "[encoded data removed]",
      "text/plain": [
       "<matplotlib.figure.Figure at 0x113fccc18>"
      ]
     },
     "metadata": {},
     "output_type": "display_data"
    }
   ],
   "source": [
    "from xgboost import plot_importance\n",
    "plot_importance(pipeline.steps[1][1])"
   ]
  },
  {
   "cell_type": "code",
   "execution_count": 265,
   "metadata": {},
   "outputs": [
    {
     "data": {
      "text/plain": [
       "Index(['age', 'simple_surface', 'color', 'shape'], dtype='object')"
      ]
     },
     "execution_count": 265,
     "metadata": {},
     "output_type": "execute_result"
    }
   ],
   "source": [
    "X.columns"
   ]
  },
  {
   "cell_type": "markdown",
   "metadata": {},
   "source": [
    "<b>To respect the 2) of the exercise </b> \n",
    "* If I had a file to test named df_test, this is my simple pipeline to generate prediction on it : \n",
    "\n",
    "    - Concatenate df_train & df_test\n",
    "    - Create a boolean column named \"is_train\" that identify the train and test part\n",
    "    - Do all my manipulation on the all dataframe\n",
    "    - Split the dataframe into train and test before modeling\n",
    "    - Train my model on the trainning set\n",
    "    - Predict on the test set"
   ]
  },
  {
   "cell_type": "markdown",
   "metadata": {},
   "source": [
    "ie : "
   ]
  },
  {
   "cell_type": "markdown",
   "metadata": {},
   "source": [
    "<b>Combine train and test files</b>\n",
    "- dfs = pd.concat([df_bottle, df_bottle_test], sort=False)\n",
    "- dfs['is_train'] = dfs.weight.apply(lambda x: False if (pd.isnull(x)) else True)\n",
    "\n",
    "<b>Split Part</b>\n",
    "- train = dfs.loc[dfs.is_train == True].copy()\n",
    "- test = dfs.loc[dfs.is_train == False].copy()\n",
    "\n",
    "<b>Drop \"weight\" and \"is_train\"</b>\n",
    "- train.drop(labels=['is_train'], axis=1, inplace=True)\n",
    "- test.drop(labels=['is_train', 'weight'], axis=1, inplace=True)\n",
    "\n",
    "\n",
    "<b>Training and prediction</b>\n",
    "- Train my model on train\n",
    "- predict on test"
   ]
  },
  {
   "cell_type": "code",
   "execution_count": null,
   "metadata": {},
   "outputs": [],
   "source": []
  },
  {
   "cell_type": "code",
   "execution_count": null,
   "metadata": {},
   "outputs": [],
   "source": []
  },
  {
   "cell_type": "markdown",
   "metadata": {},
   "source": [
    "# 2nd approach - Train a model on the weight bottles known and apply it on the whole dataset"
   ]
  },
  {
   "cell_type": "markdown",
   "metadata": {},
   "source": [
    "#### 1 - Fill the 20 weights given \n",
    "#### 2 - Fill the other weights based on similarity (-0.1 of difference) : \"undifined\"\n",
    "#### 3 - Drop NaN\n",
    "#### 4 - Train a model on these small observations\n",
    "#### 5 - Apply the model on the whole DataSet"
   ]
  },
  {
   "cell_type": "markdown",
   "metadata": {},
   "source": [
    "****"
   ]
  },
  {
   "cell_type": "markdown",
   "metadata": {},
   "source": [
    "Steps 1) & 2) are already done in the 1st approach, the dataset has been exported as train.csv --> So jump into the step 3"
   ]
  },
  {
   "cell_type": "code",
   "execution_count": 266,
   "metadata": {},
   "outputs": [],
   "source": [
    "train = pd.read_csv('train.csv')\n",
    "df_test = pd.read_csv('bottles.csv')"
   ]
  },
  {
   "cell_type": "markdown",
   "metadata": {},
   "source": [
    "- Step 3"
   ]
  },
  {
   "cell_type": "code",
   "execution_count": 267,
   "metadata": {},
   "outputs": [],
   "source": [
    "train.dropna(inplace=True)"
   ]
  },
  {
   "cell_type": "code",
   "execution_count": 268,
   "metadata": {},
   "outputs": [
    {
     "data": {
      "text/plain": [
       "113"
      ]
     },
     "execution_count": 268,
     "metadata": {},
     "output_type": "execute_result"
    }
   ],
   "source": [
    "len(train)"
   ]
  },
  {
   "cell_type": "markdown",
   "metadata": {},
   "source": [
    "Create 'simple_surface' for my test set"
   ]
  },
  {
   "cell_type": "code",
   "execution_count": 269,
   "metadata": {},
   "outputs": [],
   "source": [
    "df_test['simple_surface'] = df_test.width * df_test.height"
   ]
  },
  {
   "cell_type": "markdown",
   "metadata": {},
   "source": [
    "Concat train and test to do manipulation at once"
   ]
  },
  {
   "cell_type": "code",
   "execution_count": 270,
   "metadata": {},
   "outputs": [],
   "source": [
    "dfs = pd.concat([train, df_test], sort=False)\n",
    "dfs['is_train'] = dfs.weight.apply(lambda x: False if (pd.isnull(x)) else True)"
   ]
  },
  {
   "cell_type": "code",
   "execution_count": 271,
   "metadata": {},
   "outputs": [],
   "source": [
    "dfs = dfs[['age', 'simple_surface', 'color', 'shape', 'weight', 'is_train']]"
   ]
  },
  {
   "cell_type": "markdown",
   "metadata": {},
   "source": [
    "- We'll try to train our model on only 66 values to predict others"
   ]
  },
  {
   "cell_type": "code",
   "execution_count": 272,
   "metadata": {},
   "outputs": [],
   "source": [
    "le = LabelEncoder()\n",
    "\n",
    "le.fit(dfs.color)\n",
    "dfs.color = le.transform(dfs.color)\n",
    "\n",
    "le.fit(dfs['shape'])\n",
    "dfs['shape'] = le.transform(dfs['shape'])\n",
    "\n",
    "to_category = ['shape', 'color']\n",
    "for i in to_category:\n",
    "    dfs[i] = dfs[i].astype('category')"
   ]
  },
  {
   "cell_type": "markdown",
   "metadata": {},
   "source": [
    "All the manipulation are done, We can now Re-Separate our DataSet into trainning and testing set"
   ]
  },
  {
   "cell_type": "code",
   "execution_count": 273,
   "metadata": {},
   "outputs": [],
   "source": [
    "train = dfs.loc[dfs.is_train == True].copy()\n",
    "test = dfs.loc[dfs.is_train == False].copy()\n",
    "\n",
    "train.drop(labels=['is_train'], axis=1, inplace=True)\n",
    "test.drop(labels=['is_train', 'weight'], axis=1, inplace=True)"
   ]
  },
  {
   "cell_type": "markdown",
   "metadata": {},
   "source": [
    "#### Model"
   ]
  },
  {
   "cell_type": "code",
   "execution_count": 274,
   "metadata": {},
   "outputs": [],
   "source": [
    "X = train.drop(labels=['weight'], axis=1)\n",
    "y = train.weight\n",
    "\n",
    "X_train, X_test, y_train, y_test = train_test_split(X, y, test_size=0.28, random_state=21)"
   ]
  },
  {
   "cell_type": "code",
   "execution_count": 275,
   "metadata": {},
   "outputs": [
    {
     "name": "stdout",
     "output_type": "stream",
     "text": [
      "RMSE : 0.5003956046000279\n"
     ]
    }
   ],
   "source": [
    "pipeline = Pipeline([\n",
    "    ('scale', StandardScaler()), #useless for tree based algo\n",
    "    ('model', xgb.XGBRegressor(objective='reg:linear', seed=123, n_estimators=500,\n",
    "                               learning_rate=0.008, max_depth=3, colsample_bytree=0.4))\n",
    "])\n",
    "\n",
    "pipeline.fit(X_train, y_train)\n",
    "y_pred = pipeline.predict(X_test)\n",
    "\n",
    "print(f\"RMSE : {np.sqrt(mean_squared_error(y_test, y_pred))}\")"
   ]
  },
  {
   "cell_type": "markdown",
   "metadata": {},
   "source": [
    "#### Predict on the whole test dataset"
   ]
  },
  {
   "cell_type": "code",
   "execution_count": 276,
   "metadata": {},
   "outputs": [
    {
     "data": {
      "text/html": [
       "<div>\n",
       "<style scoped>\n",
       "    .dataframe tbody tr th:only-of-type {\n",
       "        vertical-align: middle;\n",
       "    }\n",
       "\n",
       "    .dataframe tbody tr th {\n",
       "        vertical-align: top;\n",
       "    }\n",
       "\n",
       "    .dataframe thead th {\n",
       "        text-align: right;\n",
       "    }\n",
       "</style>\n",
       "<table border=\"1\" class=\"dataframe\">\n",
       "  <thead>\n",
       "    <tr style=\"text-align: right;\">\n",
       "      <th></th>\n",
       "      <th>age</th>\n",
       "      <th>simple_surface</th>\n",
       "      <th>color</th>\n",
       "      <th>shape</th>\n",
       "      <th>weight</th>\n",
       "    </tr>\n",
       "  </thead>\n",
       "  <tbody>\n",
       "    <tr>\n",
       "      <th>0</th>\n",
       "      <td>33</td>\n",
       "      <td>305.4592</td>\n",
       "      <td>1</td>\n",
       "      <td>1</td>\n",
       "      <td>3.894497</td>\n",
       "    </tr>\n",
       "    <tr>\n",
       "      <th>1</th>\n",
       "      <td>22</td>\n",
       "      <td>343.2088</td>\n",
       "      <td>1</td>\n",
       "      <td>2</td>\n",
       "      <td>4.514741</td>\n",
       "    </tr>\n",
       "    <tr>\n",
       "      <th>2</th>\n",
       "      <td>33</td>\n",
       "      <td>360.7825</td>\n",
       "      <td>0</td>\n",
       "      <td>1</td>\n",
       "      <td>3.884582</td>\n",
       "    </tr>\n",
       "    <tr>\n",
       "      <th>3</th>\n",
       "      <td>56</td>\n",
       "      <td>356.4872</td>\n",
       "      <td>1</td>\n",
       "      <td>2</td>\n",
       "      <td>4.820507</td>\n",
       "    </tr>\n",
       "    <tr>\n",
       "      <th>4</th>\n",
       "      <td>36</td>\n",
       "      <td>302.2728</td>\n",
       "      <td>1</td>\n",
       "      <td>1</td>\n",
       "      <td>3.907216</td>\n",
       "    </tr>\n",
       "  </tbody>\n",
       "</table>\n",
       "</div>"
      ],
      "text/plain": [
       "   age  simple_surface color shape    weight\n",
       "0   33        305.4592     1     1  3.894497\n",
       "1   22        343.2088     1     2  4.514741\n",
       "2   33        360.7825     0     1  3.884582\n",
       "3   56        356.4872     1     2  4.820507\n",
       "4   36        302.2728     1     1  3.907216"
      ]
     },
     "execution_count": 276,
     "metadata": {},
     "output_type": "execute_result"
    }
   ],
   "source": [
    "pred = pipeline.predict(test)\n",
    "pred = pd.DataFrame(pred)\n",
    "pred['weight'] = pred.iloc[:,0]\n",
    "pred = pred.drop(labels=0, axis=1)\n",
    "pred = pd.merge(test, pred, left_index=True, right_index=True)\n",
    "pred.head()"
   ]
  },
  {
   "cell_type": "code",
   "execution_count": null,
   "metadata": {},
   "outputs": [],
   "source": []
  },
  {
   "cell_type": "markdown",
   "metadata": {},
   "source": [
    "## Let's see if these predictions are fare from my statistical estimation"
   ]
  },
  {
   "cell_type": "code",
   "execution_count": 277,
   "metadata": {},
   "outputs": [
    {
     "data": {
      "text/html": [
       "<div>\n",
       "<style scoped>\n",
       "    .dataframe tbody tr th:only-of-type {\n",
       "        vertical-align: middle;\n",
       "    }\n",
       "\n",
       "    .dataframe tbody tr th {\n",
       "        vertical-align: top;\n",
       "    }\n",
       "\n",
       "    .dataframe thead th {\n",
       "        text-align: right;\n",
       "    }\n",
       "</style>\n",
       "<table border=\"1\" class=\"dataframe\">\n",
       "  <thead>\n",
       "    <tr style=\"text-align: right;\">\n",
       "      <th></th>\n",
       "      <th>weight_stat</th>\n",
       "      <th>weight_predicted</th>\n",
       "    </tr>\n",
       "  </thead>\n",
       "  <tbody>\n",
       "    <tr>\n",
       "      <th>0</th>\n",
       "      <td>4.179773</td>\n",
       "      <td>3.894497</td>\n",
       "    </tr>\n",
       "    <tr>\n",
       "      <th>1</th>\n",
       "      <td>4.376260</td>\n",
       "      <td>4.514741</td>\n",
       "    </tr>\n",
       "    <tr>\n",
       "      <th>2</th>\n",
       "      <td>4.347442</td>\n",
       "      <td>3.884582</td>\n",
       "    </tr>\n",
       "    <tr>\n",
       "      <th>3</th>\n",
       "      <td>4.391838</td>\n",
       "      <td>4.820507</td>\n",
       "    </tr>\n",
       "    <tr>\n",
       "      <th>4</th>\n",
       "      <td>4.179773</td>\n",
       "      <td>3.907216</td>\n",
       "    </tr>\n",
       "  </tbody>\n",
       "</table>\n",
       "</div>"
      ],
      "text/plain": [
       "   weight_stat  weight_predicted\n",
       "0     4.179773          3.894497\n",
       "1     4.376260          4.514741\n",
       "2     4.347442          3.884582\n",
       "3     4.391838          4.820507\n",
       "4     4.179773          3.907216"
      ]
     },
     "execution_count": 277,
     "metadata": {},
     "output_type": "execute_result"
    }
   ],
   "source": [
    "df1 = pd.DataFrame(df_bottles.weight)\n",
    "df1['weight_stat'] = df1.weight\n",
    "df1.drop(labels='weight', axis=1, inplace=True)\n",
    "\n",
    "df2 = pd.DataFrame(pred.weight)\n",
    "df2['weight_predicted'] = df2.weight\n",
    "df2.drop(labels='weight', axis=1, inplace=True)\n",
    "\n",
    "df = pd.merge(df1, df2, left_index=True, right_index=True)\n",
    "df.head()"
   ]
  },
  {
   "cell_type": "code",
   "execution_count": 278,
   "metadata": {},
   "outputs": [
    {
     "data": {
      "text/plain": [
       "<seaborn.axisgrid.JointGrid at 0x115dff5f8>"
      ]
     },
     "execution_count": 278,
     "metadata": {},
     "output_type": "execute_result"
    },
    {
     "data": {
      "image/png": "[encoded data removed]",
      "text/plain": [
       "<matplotlib.figure.Figure at 0x1140cae48>"
      ]
     },
     "metadata": {},
     "output_type": "display_data"
    }
   ],
   "source": [
    "sns.jointplot('weight_stat', 'weight_predicted', data=df, size=10, kind=\"reg\")"
   ]
  },
  {
   "cell_type": "markdown",
   "metadata": {},
   "source": [
    "#### Conclusion"
   ]
  },
  {
   "cell_type": "markdown",
   "metadata": {},
   "source": [
    "My Statistical modeling is pretty fare from the predicted values : r=0.63"
   ]
  },
  {
   "cell_type": "markdown",
   "metadata": {},
   "source": [
    "##### Suggestion to improve the statistical modeling : \n",
    "#####  - Find a better method to take a value into the confidence interval instead of taking a random value between the inferior edge and superior edge\n",
    "#####  - Change the confidence level"
   ]
  },
  {
   "cell_type": "code",
   "execution_count": null,
   "metadata": {},
   "outputs": [],
   "source": []
  }
 ],
 "metadata": {
  "kernelspec": {
   "display_name": "Python 3",
   "language": "python",
   "name": "python3"
  },
  "language_info": {
   "codemirror_mode": {
    "name": "ipython",
    "version": 3
   },
   "file_extension": ".py",
   "mimetype": "text/x-python",
   "name": "python",
   "nbconvert_exporter": "python",
   "pygments_lexer": "ipython3",
   "version": "3.6.3"
  }
 },
 "nbformat": 4,
 "nbformat_minor": 2
}
